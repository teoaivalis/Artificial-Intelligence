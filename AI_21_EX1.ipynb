{
  "nbformat": 4,
  "nbformat_minor": 0,
  "metadata": {
    "colab": {
      "name": "AI_21_EX1.ipynb",
      "provenance": [],
      "collapsed_sections": [
        "k4B8EEBhClt2"
      ]
    },
    "kernelspec": {
      "display_name": "Python 3",
      "name": "python3"
    }
  },
  "cells": [
    {
      "cell_type": "markdown",
      "metadata": {
        "id": "bxSfB7E17vMw"
      },
      "source": [
        "## Ομάδα \n",
        "\n",
        "Στοιχεία Μέλους 1: Κορούλης Χρήστος 03117159\n",
        "\n",
        "Στοιχεία Μέλους 2: Αϊβαλής Θεόδωρος 03117099"
      ]
    },
    {
      "cell_type": "markdown",
      "metadata": {
        "id": "CCcGFAb8nULW"
      },
      "source": [
        "# Τεχνητή Νοημοσύνη: Εργαστηριακή Άσκηση 1\n",
        "\n",
        "    \n",
        "\n",
        "---\n",
        "\n",
        "\n",
        "\n",
        "Ο στόχος της εργασίας είναι η εφαρμογή αλγορίθμων αναζήτησης και εύρεσης καλύτερου μονοπατιού σε λαβύρινθο διαστάσεων $N\\times N$\n"
      ]
    },
    {
      "cell_type": "markdown",
      "metadata": {
        "id": "PPcLy1P7naLP"
      },
      "source": [
        "# Εκφώνηση\n",
        "\n",
        "## Μέρος 1\n",
        "Ο στόχος του πρώτου μέρους είναι η κατασκευή **λαβυρίνθων**. [Σε αυτό το άρθρο της Wikipedia](https://en.wikipedia.org/wiki/Maze_generation_algorithm) μπορείτε να βρείτε διάφορους αλγορίθμους για αυτό το σκοπό. Προσέξτε ότι οι αλγόριθμοι του παραπάνω άρθρου κατασκευάζουν ένα μόνο μονοπάτι από κάθε σημείο του λαβυρίνθου προς οποιοδήποτε άλλο (η δομή του λαβυρίνθου έχει μορφή συνεκτικού δέντρου). Καλείστε να τροποποιήσετε τον αλγόριθμο της επιλογής σας (ενδεχομένως και πέραν αυτών που υπάρχουν στο προαναφερθέν άρθρο) ώστε οι λαβύρινθοι που κατασκευάζει να έχουν τουλάχιστον δύο (2) μονοπάτια μεταξύ ενός σημείου αφετηρίας (S) και ενός σημείου τερματισμού (F). Η τροποποίηση του αλγορίθμου μπορεί να γίνει και με πιθανοτικό τρόπο, αλλά σε αυτή την περίπτωση θα πρέπει να βεβαιωθείτε πως οι λαβύρινθοι που θα χρησιμοποιήσετε στα επόμενα ερωτήματα έχουν τουλάχιστον δύο μονοπάτια μεταξύ των S και F. Αναφέρετε ποιον αλγόριθμο επιλέξατε, περιγράψτε τον συνοπτικά καθώς και τον τρόπο που αντιμετωπίσατε το παραπάνω πρόβλημα, και υλοποιήστε τον στο κελί κώδικα του Μέρους 1.\n",
        "\n",
        "Σε όλα τα ερωτήματα φροντίστε να χρησιμοποιήσετε **δομημένο** κώδικα, με **σχόλια** που επισημαίνουν τη λογική του.\n",
        "\n",
        "\n",
        "### Παραδείγματα λαβυρίνθων\n",
        "![index1.png](data:image/png;base64,iVBORw0KGgoAAAANSUhEUgAAAOsAAADrCAYAAACICmHVAAAABHNCSVQICAgIfAhkiAAAAAlwSFlzAAALEgAACxIB0t1+/AAAADh0RVh0U29mdHdhcmUAbWF0cGxvdGxpYiB2ZXJzaW9uMy4yLjIsIGh0dHA6Ly9tYXRwbG90bGliLm9yZy+WH4yJAAADhUlEQVR4nO3dwW0UMQCGURvRB0VsBXRBi+mCCuiBOz0MlxyDYJF3x9/se8ckGo3W+uRIkf7M4zgGsL9PZ78A8G/EChFihQixQoRYIUKsEPH5nh+ec/o7DzzYcRzzo6+7WSFCrBAhVogQK0SIFSLEChFihQixQoRYIUKsECFWiBArRIgVIsQKEWKFCLFChFghQqwQcdesy2o7/zeA29vXpc/78e370uft/Nm9mjk/XGFZzs0KEWKFCLFChFghQqwQIVaIECtEiBUixAoRYoUIsUKEWCFCrBAhVogQK0SIFSLEChFihQixQsSpG0yrPWsL54pe6bOr7le5WSFCrBAhVogQK0SIFSLEChFihQixQoRYIUKsECFWiBArRIgVIsQKEWKFCLFChFghQqwQcalZl53nOl5pNmWMvc+iys0KEWKFCLFChFghQqwQIVaIECtEiBUixAoRYoUIsUKEWCFCrBAhVogQK0SIFSLEChFihQixQsSlNphW7hzZENqLs3WzQoZYIUKsECFWiBArRIgVIsQKEWKFCLFChFghQqwQIVaIECtEiBUixAoRYoUIsUKEWCFCrBBxqQ2mnbd1dn63Ap+fmxUyxAoRYoUIsUKEWCFCrBAhVogQK0SIFSLEChFihQixQoRYIUKsECFWiBArRIgVIsQKEWKFiEttMM05z34FHmTl2Vb3nNysECFWiBArRIgVIsQKEWKFCLFChFghQqwQIVaIECtEiBUixAoRYoUIsUKEWCFCrBAhVogQK0RcaoOpuq3D360827fbbdmznsnNChFihQixQoRYIUKsECFWiBArRIgVIsQKEWKFCLFChFghQqwQIVaIECtEiBUixAoRYoUIsULEpTaY5pxnvwLvVu9hOVs3K2SIFSLEChFihQixQoRYIUKsECFWiBArRIgVIsQKEWKFCLFChFghQqwQIVaIECtEiBUiLjXrsnpKhH3sfLbPmpxxs0KEWCFCrBAhVogQK0SIFSLEChFihQixQoRYIUKsECFWiBArRIgVIsQKEWKFCLFChFghQqwQceoG07O2a+AK3KwQIVaIECtEiBUixAoRYoUIsUKEWCFCrBAhVogQK0SIFSLEChFihQixQoRYIUKsECFWiBArRNy7wfRrjPHzES8CjDHG+PKnb8zjOJ75IsB/8mswRIgVIsQKEWKFCLFChFghQqwQIVaIECtE/AZROUHZqFYHAAAAAABJRU5ErkJggg==)\n",
        "![index2.png](data:image/png;base64,iVBORw0KGgoAAAANSUhEUgAAAOsAAADrCAYAAACICmHVAAAABHNCSVQICAgIfAhkiAAAAAlwSFlzAAALEgAACxIB0t1+/AAAADh0RVh0U29mdHdhcmUAbWF0cGxvdGxpYiB2ZXJzaW9uMy4yLjIsIGh0dHA6Ly9tYXRwbG90bGliLm9yZy+WH4yJAAAEvklEQVR4nO3d0W0bRxRA0WWQPlKEKkgXadFduAL3kP/0wPwKiBQu7eHwXeqcz9iIhyNfjIE3u7xcr9cDmO+3Zy8AOEesECFWiBArRIgVIsQKEb/f85svl4s5DzzY9Xq9fPTfnawQIVaIECtEiBUixAoRYoUIsULEXXPWMzxyB5+7XD4coZ7iZIUIsUKEWCFCrBAhVogQK0SIFSKWz1lvOTNnOjOr/ZV51Ve2am9v/X++6s/nkfcMnKwQIVaIECtEiBUixAoRYoUIsUKEWCFi+6WInVYMqN++/Xnz9/z46/vD13FW6TLCrgsaqzx7b52sECFWiBArRIgVIsQKEWKFCLFChFghYuSliF3D52cPud+bNPx/Na+yt05WiBArRIgVIsQKEWKFCLFChFghQqwQsf1SRGH4/N6ur/JYtS9T9nfKOl6JkxUixAoRYoUIsUKEWCFCrBAhVohYPmed9ED3FKv2ZNfM9ww/5/2crBAhVogQK0SIFSLEChFihQixQoRYIWL5pQgPHf/XpD2ZtBbu42SFCLFChFghQqwQIVaIECtEiBUixAoR29/Iv/MNA7cuAEx624G1cIuTFSLEChFihQixQoRYIUKsECFWiMh+8/muWeCkh7Wt5ee8ytzYyQoRYoUIsUKEWCFCrBAhVogQK0SIFSKWX4pYMYAuDdyPY9bQfcpazqzjzM95yueZwMkKEWKFCLFChFghQqwQIVaIECtEiBUill+KqF1o2GHSnkxayxkr1rvqYsWz987JChFihQixQoRYIUKsECFWiBArRIgVIrZ/fcaqNwiUTBrKT3rzwivuyyP/7jpZIUKsECFWiBArRIgVIsQKEWKFiO1z1kl2zXMnzY0nrWWSwr44WSFCrBAhVogQK0SIFSLEChFihQixQsSXvhTxig9irzBpLZM8e1+crBAhVogQK0SIFSLEChFihQixQoRYIWL7pYhJT+RPWssZpTdbfMVvXjiO25/pVy5WOFkhQqwQIVaIECtEiBUixAoRYoUIsULE9ksRz37a/r1Ja1ll12fadaFhxeWKV7mg4WSFCLFChFghQqwQIVaIECtEiBUiRr6Rv/SQ9SqvNh9dZcV6a5/5M05WiBArRIgVIsQKEWKFCLFChFghQqwQMfJSxBmTLhHcWsuqofyuzzzpofxJa3k2JytEiBUixAoRYoUIsUKEWCFCrBAhVojYfili51P7j/zK+NUmXZyovVmhtt6f5WSFCLFChFghQqwQIVaIECtEiBUivvQ3n++y6jOvmCfuWsvObxuf9HfqkTNfJytEiBUixAoRYoUIsUKEWCFCrBAhVogY+Ub+XQ8Tr/pzSpcVanbtbWHfnKwQIVaIECtEiBUixAoRYoUIsUKEWCFi5KWISW8z2LGOsya9EWGF2kWQZ1+ucLJChFghQqwQIVaIECtEiBUixAoRYoWI7ZciJj2RP+mywqR9qfn29va/v/4qe+tkhQixQoRYIUKsECFWiBArRIgVIi73zKAul8trDKxgsOv1+uHg3skKEWKFCLFChFghQqwQIVaIECtEiBUi7n34/J/jOP5+xEKA4ziO44/PfuGuG0zA8/hnMESIFSLEChFihQixQoRYIUKsECFWiBArRPwLUNQF44aEdWwAAAAASUVORK5CYII=)\n",
        "![index3.png](data:image/png;base64,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)"
      ]
    },
    {
      "cell_type": "markdown",
      "metadata": {
        "id": "hrKnkVsr61N-"
      },
      "source": [
        "## Μέρος 2\n",
        "\n",
        "Στο δεύτερο μέρος της εργασίας θα υλοποιήσετε τον αλγόριθμο Α* για την εύρεση συντομότερων μονοπατιών μεταξύ δυο κόμβων για τους λαβυρίνθους που παράγονται από τον κώδικα του πρώτου μέρους. Θα κατασκευάσετε και διάφορες συναρτήσεις κόστους τόσο για την μέτρηση των πραγματικών αποστάσεων όσο και για την εκτίμηση των αποστάσεων από έναν κόμβο στον κόμβο στόχο (heuristic).\n",
        "\n",
        "Η γενική μορφή της συνάρτησης κόστους στον αλγόριθμο Α* είναι:\n",
        "$$f(n)=g(n)+h(n)$$\n",
        "Παραπάνω, η συνάρτηση $g(n)$ δίνει την πραγματική απόσταση από το σημείο εκκίνησης μέχρι τον κόμβο $n$, και η συνάρτηση $h(n)$ αποτελεί μια ευριστική της απόστασης από τον κόμβο $n$ μέχρι τον στόχο. Σας ζητείται να πειραματιστείτε με τις εξής επιλογές για τις δύο συναρτήσεις:\n",
        "* $g(n)=0$ και $h(n)=\\{\\text{manhattan}(n),\\text{euclidean}(n)\\}$. Ποιος αλγόριθμος αναζήτησης προκύπτει; Μπορεί να βρει πάντα το βέλτιστο μονοπάτι;\n",
        "* $g(n)=1$ και $h(n)=0$. Ποιος αλγόριθμος αναζήτησης προκύπτει; Μπορεί να βρει πάντα το βέλτιστο μονοπάτι;\n",
        "* $g(n)=1$ και $h(n)=\\{\\text{manhattan}(n),\\text{euclidean}(n)\\}$. Ποιος αλγόριθμος αναζήτησης προκύπτει; Μπορεί να βρει πάντα το βέλτιστο μονοπάτι;\n",
        "\n",
        "Μπορείτε να προτείνετε και άλλες ευριστικές συναρτήσεις εκτός από τις αποστάσεις manhattan και euclidean;"
      ]
    },
    {
      "cell_type": "markdown",
      "metadata": {
        "id": "HBVzpYPF9WC_"
      },
      "source": [
        "## Μέρος 3\n",
        "\n",
        "Στο τρίτο μέρος καλείστε να συγκρίνετε την απόδοση των αλγορίθμων που υλοποιήσατε στο πρώτο μέρος, με βάση την πολυπλοκότητά τους και το κατά πόσο μπορούν να βρούν το βέλτιστο μονοπάτι. \n",
        " \n",
        "Αρχικά, θα πρέπει να κατασκευάσετε πλήθος λαβυρίνθων με μέγεθος $N\\in[10,11, \\ldots,50]$ (τουλάχιστον 10 λαβυρίνθους για κάθε Ν).\n",
        "\n",
        "Έπειτα, για τους τρεις αλγορίθμους που υλοποιήσατε στο δεύτερο μέρος, καθώς και για ό,τι επιπλέον υλοποιήσατε (πχ επιπλέον ευριστικές), ζητείται να συλλέξετε τα εξής χαρακτηριστικά:\n",
        " * το μήκος του ελάχιστου μονοπατιού που εξάγει ο εκάστοτε αλγόριθμος.\n",
        " * το πλήθος των επεκτεταμένων κόμβων (expanded nodes) του κάθε αλγορίθμου, που αποτελεί μέτρο της πολυπλοκότητάς του.\n",
        " \n",
        "Για να σας είναι εύκολο να εξάγετε συμπεράσματα από τις παραπάνω παραμετροποιήσεις, ζητείται να κατασκευάσετε δύο γραφικές παραστάσεις:\n",
        " * το μήκος του ελάχιστου μονοπατιού συναρτήσει του μεγέθους του χάρτη\n",
        " * το πλήθος των expanded nodes συναρτήσει του μεγέθους του χάρτη\n",
        "\n",
        "Ένα παράδειγμα φαίνεται παρακάτω:\n",
        "\n",
        "![image.png](data:image/png;base64,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)\n",
        "\n",
        " Σας ζητείται σχολιάσετε τιςγραφικές παραστάσεις που θα φτιάξετε, και συγκεκριμένα το πώς μεταβάλλεται η συμπεριφορά των αλγορίθμων συναρτήσει του $N$.\n",
        " \n",
        " Σημειώνουμε τα παρακάτω:\n",
        " \n",
        " * Σε όλα τα παραπάνω πειράματα μπορείτε να λάβετε σαν σημείο εκκίνησης το $(1,1)$ και σαν σημείο τερματισμού $(N-2,N-2)$. Εναλλακτικά, μπορείτε να πειραματιστείτε με τυχαία σημεία εκκινησης και τερματισμού.\n",
        " * Αν και οι χάρτες παράγονται τυχαία, η εκτέλεση αλγορίθμων σε διαφορετικούς χάρτες παράγει μη συγκρίσιμα αποτελέσματα, οπότε οι αλγόριθμοι πρέπει να τρέξουν στους ίδιους χάρτες.\n",
        " * Για λόγους ευκολίας σύγκρισης, προτείνεται να τοποθετήσετε πολλαπλές γραφικές παραστάσεις στο ίδιο σύστημα αξόνων, όπου αυτό είναι εφικτό.\n",
        "\n",
        "Για το πως κατασκευάζουμε γραφικές παραστάσεις μέσω python, μπορείτε να βρείτε παραδείγματα στον κώδικα που δίνεται, καθώς και (για το ζητούμενο της άσκησης) [εδώ](https://www.kite.com/python/answers/how-to-make-multiple-plots-on-the-same-figure-in-matplotlib-in-python) .\n",
        "\n",
        "## **Visualization**\n",
        "Παράλληλα με τα παραπάνω σας δίνεται έτοιμη και μια κλάση η όποια κατασκευάζει ένα animation της αναζήτησης το όποιο υλοποιεί κάθε αλγόριθμος. Για την χρήση της κλάσης αυτής πρέπει να κάνετε τα εξής 4 βήματα:\n",
        "\n",
        "1.\tΔημιουργία ενός instance της κλάσης εκτελώντας την παρακάτω εντολή: `visualization(Start, Goal)`. Η εντολή αυτή δημιουργεί ένα αντικείμενο τύπου visualization. \n",
        "2.\tΤο βίντεο που παράγεται κάθε φορά ουσιαστικά αποτελείται από stacked frames. Συνεπώς σε κάθε βήμα εκτέλεσης όπου δηλαδή θέλουμε να προσθέσουμε ένα frame στο βίντεο πρέπει να καλέσουμε την μέθοδο της κλάσης: `draw_step(grid, frontier, expanded_nodes)` όπου το πρώτο όρισμα είναι ένας χάρτης (τύπου Maze) το δεύτερο μια λίστα με το μέτωπο της αναζήτηση ενώ το τρίτο μια λίστα με τους κόμβους οι όποιοι έχουν ήδη επεκταθεί από τον αλγόριθμο. \n",
        "3.\t(Προαιρετικό) Αν θέλουμε να προσθέσουμε στο animation και το βέλτιστο μονοπάτι που βρήκε ο αλγόριθμός μας μπορούμε να καλέσουμε την μέθοδο add_path(path) η οποία δέχεται σαν όρισμα μια λίστα με όλους τους κόμβους που ανήκουν στο βέλτιστο μονοπάτι (συμπεριλαμβανομένων και των κόμβων αρχής και τέλους).\n",
        "4.\tΤέλος καλούμε την συνάρτηση `show_gif()` η όποια εμφανίζει το animation. Επίσης μπορούμε και να αποθηκεύσουμε το gif καλώντας την συνάρτηση `save_gif (filename)` (το αρχείο πρέπει να έχει κατάληξη .gif) καθώς επίσης μπορούμε να εμφανίσουμε μόνο το τελευταίο frame καλώντας την συνάρτηση `show_last_frame()` στο όποιο (αν έχουν γίνει όλα όπως παραπάνω) θα φαίνονται όλοι οι κόμβοι οι οποίοι έχουν επεκταθεί από τον αλγόριθμο, το τελευταίο μέτωπο και (προαιρετικά) και το βέλτιστο μονοπάτι.\n",
        "\n",
        "Μπορείτε να καταλήξετε στα ίδια συμπεράσματα όσον αφορά την πολυπλοκότητα των αλγορίθμων παρατηρώντας το visualization; \n"
      ]
    },
    {
      "cell_type": "markdown",
      "metadata": {
        "id": "nqTnPBPM_RrH"
      },
      "source": [
        "## Μέρος 4\n",
        "\n",
        "Στο τέταρτο και τελευταίο μέρος της εργασίας σας δίνεται η δυνατότητα να κατασκευάσετε λαβυρίνθους με το χέρι. \n",
        "\n",
        "Καλείστε λοιπόν να **κατασκευάσετε** και να **σχολιάσετε** τους παρακάτω 5 λαβυρίνθους:\n",
        "\n",
        "\n",
        "*   **Λαβύρινθος 1**: Ο Hill-climbing δεν βρίσκει μονοπάτι από την αφετηρία στο στόχο.\n",
        "*   **Λαβύρινθος 2**: Ο Α* αργεί όσο το δυνατόν περισσότερο να βρει το βέλτιστο μονοπάτι ανεξαρτήτως της μετρικής απόστασης που χρησιμοποιείται ως ευριστική. Σε τι είδους μονοπάτι η επιλογή διαφορετικής μετρικής απόστασης (Ευκλίδεια/Manhattan) ως ευριστικής οδηγεί τον Α* να βρίσκει το μονοπάτι πιο γρήγορα;\n",
        "*   **Λαβύρινθος 3**: Ο αλγόριθμος άπληστης αναζήτησης πρώτα στο καλύτερο (greedy best first) αργεί σημαντικά περισσότερο από τον Α* για να καταλήξει στο στόχο. Σε ποια περίπτωση οι δύο αλγόριθμοι θα συμπεριφέρονταν με τον ίδιο τρόπο;\n",
        "*   **Λαβύρινθος 4**: Ο Α* καταφέρνει να βρει το μονοπάτι προς το στόχο σημαντικά πιο γρήγορα από τον Dijkstra. Ο χώρος πρέπει αναγκαστικά να περιέχει εμπόδια. Πώς επηρεάζει το μέγεθος/είδος του εμποδίου τον αριθμό βημάτων που χρειάζεται ο Dijsktra και πώς τον αριθμό βημάτων του Α*;\n",
        "*   **Λαβύρινθος 5**: Ο Α* και ο Dijkstra φτάνουν στο στόχο πραγματοποιώντας τον ίδιο ακριβώς αριθμό βημάτων για την προσέγγιση της βέλτιστης διαδρομής. Σημείωση: **αγνοήστε** την τετριμμένη περίπτωση όπου ο Α* συμπεριφέρεται όπως ο Dijkstra (h(n)=0). \n",
        "\n",
        "\n",
        "Ο Α* σε όλες τις περιπτώσεις πραγματοποιεί τη βέλτιστη δυνατή αναζήτηση.   \n",
        "\n",
        "\n",
        "Για κάθε λαβύρινθο που σχηματίζετε, δώστε μια σύντομη εξήγηση για την επιλογή σας.  \n",
        "\n",
        "**ΠΡΟΣΟΧΗ:** το output των κελιών που σχηματίζετε διατηρείται για περιορισμένο χρονικό διάστημα στο notebook, γι αυτό καλείστε να αποθηκεύσετε τη φωτογραφία (το πραγματοποιεί η συνάρτηση draw()) και να τη μεταφέρετε στο ανάλογο markdown ώστε να μπορέσουμε να την αξιολογήσουμε.\n",
        "\n",
        "\n",
        "Στη συνέχεια, καλείστε να τρέξετε τους αλγορίθμους pathfinding πάνω στους χάρτες που σχηματίσατε. Για το σκοπό αυτό, μετά την εκτέλεση της draw() καλείτε τη συνάρτηση draw_grid() που μετατρέπει την εικόνα που σχηματίσατε σε χάρτη πάνω στον οποίο μπορούν να τρέξουν οι αλγόριθμοι με χρήση της συνάρτησης pathfinder(). Χρειάζεται να επιλέξετε κατάλληλα τα ορίσματα της pathfinder ώστε να καλέσετε το σωστό αλγόριθμο αναζήτησης σε κάθε ερώτημα. Εκτελέστε τα αντίστοιχα κελιά με τον κώδικα που σας δίνεται και παρουσιάστε την έξοδο αυτών. Φυσικά, εάν ένα ερώτημα περιλαμβάνει την εκτέλεση περισσότερων του ενός αλγορίθμου, αντιγράφετε τα αντίστοιχα κελιά για κάθε αλγόριθμο και τοποθετείτε τα σωστά ορίσματα. Τέλος, η show_gif() σας παρουσιάζει το animation, όπως και στο Μέρος 3.\n",
        "**Παρατήρηση:** εφόσον δε σας δίνεται/δεν έχετε υλοποιήσει τον Hill climbing, δε σας ζητείται να τον τρέξετε στο χάρτη που θα σχηματίσετε."
      ]
    },
    {
      "cell_type": "markdown",
      "metadata": {
        "id": "k4B8EEBhClt2"
      },
      "source": [
        "# Κώδικας visualization\n"
      ]
    },
    {
      "cell_type": "code",
      "metadata": {
        "id": "fH9jHuU-Chps"
      },
      "source": [
        "import numpy as np\n",
        "import matplotlib.pyplot as plt\n",
        "import matplotlib.animation as animation\n",
        "from matplotlib.animation import PillowWriter\n",
        "from IPython.display import HTML\n",
        "\n",
        "class visualization:\n",
        "    def __init__(self, S, F):\n",
        "        '''\n",
        "          Η μέθοδος αυτή αρχικοποιεί ένα αντικείμενο τύπου visualization.\n",
        "          Είσοδος: \n",
        "          -> S: το σημείο εκκίνσης της αναζήτησης\n",
        "          -> F: το σημείο τερματισμού\n",
        "        '''\n",
        "        self.S = S\n",
        "        self.F = F\n",
        "        self.images = []\n",
        "    \n",
        "    def draw_step(self, grid, frontier, expanded_nodes):\n",
        "        '''\n",
        "          Η συνάρτηση αυτή καλείται για να σχεδιαστεί ένα frame στο animation (πρακτικά έπειτα από την επέκταση κάθε κόμβου)\n",
        "          Είσοδος: \n",
        "          -> grid: Ένα χάρτης τύπου grid\n",
        "          -> frontier: Μια λίστα με τους κόμβους που ανήκουν στο μέτωπο της αναζήτησης\n",
        "          -> expanded_nodes: Μια λίστα με τους κόμβους που έχουν ήδη επεκταθεί\n",
        "          Επιστρέφει: None\n",
        "          Η συνάρτηση αυτή πρέπει να καλεστεί τουλάχιστον μια φορά για να μπορέσει να σχεδιαστει ένα animation (πρεπεί το animation να έχει τουλάχιστον ένα frame).\n",
        "        '''\n",
        "        image = np.zeros((grid.N, grid.N, 3), dtype=int)\n",
        "        #image[~grid.grid] = [0, 0, 0]\n",
        "        #image[grid.grid] = [255, 255, 255]\n",
        "        # Use this to treat 1/True as obstacles\n",
        "        image[grid.grid] = [0, 0, 0] #(grid.grid == 1)\n",
        "        image[~grid.grid] = [255, 255, 255] #(grid.grid == 0)\n",
        "        \n",
        "        for node in expanded_nodes:\n",
        "            image[node] = [0, 0, 128]\n",
        "\n",
        "        for node in frontier:\n",
        "            image[node] = [0, 225, 0]\n",
        "\n",
        "        image[self.S] = [50, 168, 64]\n",
        "        image[self.F] = [168, 50, 50]\n",
        "        self.images.append(image)\n",
        "    \n",
        "    def add_path(self, path):\n",
        "        '''\n",
        "          Η συνάρτηση αυτή προσθέτει στο τελευταίο frame το βέλτιστο μονοπάτι.\n",
        "          Είσοδος:\n",
        "          -> path: Μια λίστα η όποια περιέχει το βέλτιστο μονοπάτι (η οποία πρέπει να περιέχει και τον κόμβο αρχή και τον κόμβο στόχο)\n",
        "          Έξοδος: None\n",
        "        '''\n",
        "        for n in path[1:-1]:\n",
        "            image = np.copy(self.images[-1])\n",
        "            image[n] = [66, 221, 245]\n",
        "            self.images.append(image)\n",
        "        for _ in range (100):\n",
        "            self.images.append(image)\n",
        "        \n",
        "    def create_gif(self, fps = 30, repeat_delay = 2000):\n",
        "        if len(self.images) == 0:\n",
        "            raise EmptyStackOfImages(\"Error! You have to call 'draw_step' at  first.\")\n",
        "        fig = plt.figure()\n",
        "        plt.axis('off')\n",
        "        ims = []\n",
        "        for img in self.images:\n",
        "            img = plt.imshow(img)\n",
        "            ims.append([img])\n",
        "        ani = animation.ArtistAnimation(fig, ims, interval=1000//fps, blit=True, repeat_delay= repeat_delay)\n",
        "        plt.close(fig)\n",
        "        return ani\n",
        "        \n",
        "    def save_gif(self, filename, fps = 30):\n",
        "        '''\n",
        "            Η συνάρτηση αυτή ξαναδημιουργεί και αποθηκεύει το animation σε ένα αρχείο.\n",
        "            Είσοδος:\n",
        "            -> Το όνομα του αρχείου με κατάληξη .gif\n",
        "            Έξοδος: (None)\n",
        "        '''\n",
        "        ani = self.create_gif(fps)\n",
        "        writer = PillowWriter(fps= fps)\n",
        "        ani.save(filename, writer=writer)\n",
        "\n",
        "    def show_gif(self, fps= 30, repeat_delay = 2000):\n",
        "        '''\n",
        "            Η συνάρτηση αυτή εμφανίζει inline το animation.\n",
        "            Είσοδος:\n",
        "            -> fps: τα frames per second\n",
        "            Έξοδος: Το αντικείμενο που παίζει το animation\n",
        "            Exceptions: EmptyStackOfImages αν το animation δεν έχει ούτε ένα frame, δηλαδή αν η draw_step δεν έχει καλεστεί ποτέ.\n",
        "        '''\n",
        "        ani = self.create_gif(fps, repeat_delay)\n",
        "        # return HTML(ani.to_html5_video())\n",
        "        return HTML(ani.to_jshtml())\n",
        "\n",
        "    def show_last_frame(self):\n",
        "        '''\n",
        "            Η μέθοδος αυτή εμφανίζει inline το τελευταίο frame που έχει δημιουργήθει.\n",
        "            Είσοδος:\n",
        "            Έξοδος: Το αντικείμενο που εμφανίζει την εικόνα.\n",
        "            Exceptions: EmptyStackOfImages αν το animation δεν έχει ούτε ένα frame, δηλαδή αν η draw_step δεν έχει καλεστεί ποτέ.\n",
        "        '''\n",
        "        if len(self.images) == 0:\n",
        "            raise EmptyStackOfImages(\"Error! You have to call 'draw_step' at  first.\")\n",
        "        else:\n",
        "            plt.imshow(self.images[-1])\n",
        "\n",
        "\n",
        "class EmptyStackOfImages(Exception):\n",
        "    pass"
      ],
      "execution_count": 1,
      "outputs": []
    },
    {
      "cell_type": "markdown",
      "metadata": {
        "id": "_HWZO0-MAHKz"
      },
      "source": [
        "# Λύση\n",
        "\n"
      ]
    },
    {
      "cell_type": "markdown",
      "metadata": {
        "id": "MTiD83XMoM5u"
      },
      "source": [
        "## Μέρος 1\n",
        "\n",
        "Στο παρακάτω κελί κώδικα σας δίνεται ο σκελετός της κλάσης ```Maze```, όπου και θα υλοποιήσετε τον αλγόριθμο κατασκευής λαβυρίνθων. Για να λειτουργεί σωστά η οπτικοποίηση, ο λαβύριθνος αναπαριστάται ως ένας $N\\times{N}$ boolean πίνακας στο attribute ```grid``` της κλάσης. Η τιμή ```False``` σε ένα κελί του πίνακα αναπαριστά την ύπαρξη εμποδίου στο σημείο αυτό, ενώ η τιμή ```True``` ελεύθερο κελί.\n",
        "\n",
        "\n",
        "Μπορείτε να τροποποιήσετε τον δοσμένο κώδικα όπως θέλετε."
      ]
    },
    {
      "cell_type": "markdown",
      "metadata": {
        "id": "7uRkaBDggz2V"
      },
      "source": [
        "##ΕΞΗΓΗΣΗ ΛΕΙΤΟΥΡΓΙΑΣ ΜΕΡΟΥΣ 1"
      ]
    },
    {
      "cell_type": "markdown",
      "metadata": {
        "id": "OTEvBOzlg3op"
      },
      "source": [
        "Στο πρώτο μέρος υλοποιήσαμε τον αλγόριθμο παραγωγής λαβυρίνθων βασιζόμενοι στον σκελετό της Maze που μας δίνεται από την εκφώνηση. Ο συμβολισμος τον οποίο επιλέξαμε να χρησιμοποιήσουμε για την παρουσίαση των λαβυρίνθων είναι:\n",
        "\n",
        "0-> μέρος του λαβυρίνθου\n",
        "\n",
        "1-> τοίχος\n",
        "\n",
        "Γενικα οι 4 επιτρεπτοί γείτονες όπου αναφέρονται παρακάτω είναι της μορφής 4-connectivity (πάνω, κάτω, αριστερά, δεξιά) και όχι και οι διαγώνιοι.\n",
        "\n",
        "Αρχικά διασφαλίζουμε ότι η αρχή και το τέλος βρίσκονται εντός του grid το οποίο και αρχικοποιούμε όλο με τοίχους. Στα όρια του grid βάζουμε παντού τοίχους."
      ]
    },
    {
      "cell_type": "markdown",
      "metadata": {
        "id": "-XrarTu1heOg"
      },
      "source": [
        "Οι συναρτήσεις οι οποίες υλοποιήσαμε για να πετύχουμε το ζητούμενο της άσκησης είναι οι:\n",
        "\n",
        "**is_legal** : Παίρνει σαν όρισμα έναν κόμβο και επιστρέφει αν ο κόμβος αυτός είναι εντός του λαβιρύνθου\n",
        "\n",
        "**node_alone** : Παίρνει έναν κόμβο και ελέγχει αρχικά τους 4 γείτονες και βρίσκει το πλήθος των legal κόμβων(εντός του λαβυρίνθου) και το πλήθος των τοίχων. Αν έχουμε περίπτωση 4 επιτρεπτών κόμβων εκ των οποίων και οι 4 είναι τοίχοι(==1) συνδέουμε τον κόμβο με τον υπόλοιπο λαβύρινθο. Εμείς στην υλοποίησή μας θα την καλέσουμε για τους κόμβους S και F. Άρα όταν χρειαστεί θα συνδέσουμε τους συγκεκριμένους κόμβους με το μονοπάτι που θα έχει δημιουργηθεί. \n",
        "\n",
        "**legal_neighboors_walls** : Παίρνει σαν όρισματα έναν κόμβο και μέσω ενός for_loop με το οποίο διατρέχουμε τους 4 γείτονες (πάνω, κάτω, δεξιά, αριστερά) ελέγχω τους 4 αυτούς κόμβους αν είναι εντός του λαβυρίνθου. Επιιστρέφω μια τούπλα (legal_count, count) οπου το πρώτο στοιχείο της είναι το πλήθος των legal κόμβων(εντός του λαβυρίνθου) και το δεύτερο στοιχείο είναι το πλήθος των τοίχων.\n",
        "\n",
        "**legal_walls** : Παίρνει ένα κελί του λαβυρίνθου και γυρίζει όλους του νόμιμους γειτονικούς τοίχους εντός των ορίων του grid μας.\n",
        "\n",
        "**update_maze** : Παίρνει σαν όρισματα δύο κόμβους και ένα set. Ο τοίχος και το κελί που δεν είναι μέρος του λαβυρίνθου, γίνονται μέρος του λαβυρίνθου(το grid στις 2 αυτές θέσεις γίνεται ίσο με μηδέν). Οι γειτονικοί τοίχοι των νέων κελιών που προστέθηκαν στο λαβύρινθο προστίθενται και στη λίστα των τοίχων.\n",
        "\n",
        "**make_random_path** : Πρόκειται για τον βασικό αλγόριθμο παραγωγής του μονοπατιού. Τα ορίσματα που δίνουμε είναι οι κόμβοι αρχής και τέλους τους οποίους σε επόμενα βήματα θα προσπαθήσουμε να συνδέσουμε. Αρχικά έχουμε μια λίστα με τους τοίχους(frontiers). Επίλέγουμε τυχαία έναν τοίχο από τη λίστα. Στην περίπτωση που μόνο ένα από τα 2 κελιά που εννώνει ο επιλεγμένος τοίχος είναι μέρος του λαβυρίνθου τότε ο τοίχος και το κελί που δεν αποτελούν μέρος του λαβυρίνθου μετατρέπονται και αυτά σε μέρος του λαβυρινθου. Επίσης προσθέτουμε στη λίστα των τοίχων του τοίχους των νέων κελιών που μπήκαν στο λαβύρινθο. Έπειτα πρέπει να αφαιρέσουμε τον αρχικό τοίχο από τη λίστα των τοίχων αφού πλέον είναι μέρος του λαβυρίνθου.\n",
        "\n",
        "**draw_map** : Συνάρτηση για την απεικόνηση του λαβυρίνθου ανάλογα με το πλήθος των τοίχων και των επιτρεπτών κελιών.\n"
      ]
    },
    {
      "cell_type": "code",
      "metadata": {
        "id": "HoGqUWbSTMdz"
      },
      "source": [
        "# ΚΩΔΙΚΑΣ 1ΟΥ ΜΕΡΟΥ\n",
        "%matplotlib inline\n",
        "import numpy as np\n",
        "from queue import LifoQueue\n",
        "from random import shuffle, uniform\n",
        "import matplotlib.pyplot as plt\n",
        "import random\n",
        "import math \n",
        "\n",
        "class Maze:\n",
        "    def __init__(self, N, S, F):\n",
        "        # N: διάσταση λαβυρίνθου, S: αρχή, F: τέλος\n",
        "        \n",
        "        ## Make sure start and end are within the grid\n",
        "        assert N > 2\n",
        "        assert S[0] < N\n",
        "        assert S[1] < N\n",
        "        assert F[0] < N\n",
        "        assert F[1] < N\n",
        "\n",
        "        assert S[0] >= 0\n",
        "        assert S[1] >= 0\n",
        "        assert F[0] >= 0\n",
        "        assert F[1] >= 0\n",
        "\n",
        "        self.N = N\n",
        "\n",
        "        ## Initialize grid with obstacles\n",
        "        self.grid = np.ones((N, N), dtype=np.int32)\n",
        "        # Επιστρέφεται ένας πίνακας Ν*Ν με 1 που θεωρούνται εμπόδια\n",
        "\n",
        "        #Θέτουμε την Αρχή και το Τέλος μονοπάτι (ελεύθερους κόμβους)\n",
        "        self.grid[S]=0\n",
        "        self.grid[F]=0\n",
        "        #ισως εδω θελει να βαλουμε γυρω γυρω τοιχο στα ορια δλδ \n",
        "        self.grid[0, :] = 1\n",
        "        self.grid[N - 1, :] = 1\n",
        "        self.grid[:, 0] = 1\n",
        "        self.grid[:, N - 1] = 1\n",
        "        obstacle_free_points = {S, F}\n",
        "        # Τοίχος -->1 \n",
        "        # Μονοπάτι (Μέρος Λαβυρίνθου) -->0\n",
        "\n",
        "    def legal_neighbors_walls(self,node):\n",
        "        legal_count=0\n",
        "        count=0\n",
        "        for n in (node[0]-1,node[1]),(node[0]+1,node[1]),(node[0],node[1]-1),(node[0],node[1]+1): \n",
        "            if (self.is_legal(n)): \n",
        "                legal_count=legal_count+1\n",
        "                if (self.grid[n]==1):\n",
        "                    count=count+1\n",
        "        return (legal_count,count)\n",
        "\n",
        "    def is_legal(self,node): # Νόμιμος Κόμβος-Εντός του λαβυρίνθου\n",
        "        return node[0]>=0 and node[0]<N and node[1]>=0 and node[1]<N\n",
        "\n",
        "    def node_alone(self,node):\n",
        "        (x1,x2)=self.legal_neighbors_walls(node)\n",
        "        if(x1==x2): \n",
        "            # Αν έχουμε 4 κόμβοι επιτρεπτούς και 4 τοίχους\n",
        "            # πρέπει να συνδέσουμε το κόμβο(Start ή Finish) με τον υπόλοιπο λαβύρινθο\n",
        "            temp_set=[] # σύνολο νόμιμων κόμβων\n",
        "            for y in [(node[0]+1,node[1]),(node[0]-1,node[1]),(node[0],node[1]+1),(node[0],node[1]-1)]:\n",
        "              if self.is_legal(y):\n",
        "                temp_set.append(y)\n",
        "            new_node=random.choice(temp_set)\n",
        "            temp_set.remove(new_node)\n",
        "            self.grid[new_node]=0\n",
        "            x3,x4=0,0\n",
        "            for x in [(new_node[0]+1,new_node[1]),(new_node[0]-1,new_node[1]),(new_node[0],new_node[1]+1),(new_node[0],new_node[1]-1)]:\n",
        "                if (self.is_legal(x)):\n",
        "                  x3+=1\n",
        "                  if (self.grid[x]==1):\n",
        "                      x4+=1\n",
        "            past_node=node\n",
        "            while(x3==x4+1):\n",
        "              for x in [(new_node[0]+1,new_node[1]),(new_node[0]-1,new_node[1]),(new_node[0],new_node[1]+1),(new_node[0],new_node[1]-1)]:\n",
        "                if (self.is_legal(x) and (x!=past_node)):\n",
        "                    temp_set.append(x)\n",
        "                past_node=new_node\n",
        "                new_node=random.choice(temp_set)\n",
        "                temp_set.remove(new_node)\n",
        "                self.grid[new_node]=0\n",
        "                (x3,x4)=self.legal_neighbors_walls(new_node)\n",
        "            \n",
        "    #Αυτή η συνάρτηση παίρνει σαν όρισμα ένα κελί-μέρος του λαβυρίνθου και επιστρέφει ένα \n",
        "    #set με όλους τους νόμιμους(εντός ορίων του πίνακα δηλαδή) γείτονικούς τοίχους\n",
        "    def legal_walls(self,node): \n",
        "        adj=set()\n",
        "        for n in (node[0]-1,node[1]),(node[0]+1,node[1]),(node[0],node[1]-1),(node[0],node[1]+1): \n",
        "            if (self.is_legal(n)): \n",
        "                if (self.grid[n]==1):\n",
        "                    adj.add(n)\n",
        "        return adj \n",
        "\n",
        "    def update_maze (self,node,new_node,s):\n",
        "      if(self.is_legal(new_node)):\n",
        "          self.grid[node]=0 #Ο τοίχος και το κελί που δεν είναι μέρος του λαβυρίνθου, γίνονται μέρος του λαβυρίνθου.\n",
        "          self.grid[new_node]=0\n",
        "          one=self.legal_walls(node)\n",
        "          two=self.legal_walls(new_node)\n",
        "          #Οι τοίχοι των νέων κελιών που προστέθηκαν στο λαβύρινθο προστίθενται στη λίστα των τοίχων\n",
        "          s.update(one)\n",
        "          s.update(two)\n",
        "          \n",
        "    \n",
        "    #αλγόριθμος παραγωγής λαβυρίνθων\n",
        "    def make_random_path(self,start,end):\n",
        "        frontiers=set() #λιστα των τοιχων\n",
        "        list1=range(0,N)\n",
        "        list2=range(0,N)\n",
        "        x_wall=np.random.choice(list1) \n",
        "        y_wall=np.random.choice(list2)\n",
        "        self.grid[(x_wall,y_wall)]=0\n",
        "        frontiers=self.legal_walls((x_wall,y_wall)) \n",
        "        while(len(frontiers)!=0):\n",
        "            removed=random.sample(frontiers,1)[0] #Επιλέγεται τυχαία ένας τοίχος από τη λίστα\n",
        "            x,y=removed[0],removed[1]\n",
        "            wall_neghb_set=set()\n",
        "            counter=0\n",
        "            for z in [(removed[0]-1,removed[1]),(removed[0]+1,removed[1]),(removed[0],removed[1]-1),(removed[0],removed[1]+1)]:\n",
        "              if self.is_legal(z):\n",
        "                if self.grid[z]==0:\n",
        "                  wall_neghb_set.add(counter)\n",
        "              counter+=1\n",
        "            if(len(wall_neghb_set)!=4): #αν υπαρχει τουαλχιστον ενας τοιχος γειτονας\n",
        "                if(len(wall_neghb_set)==1): #Εαν μόνο ένα από τα (δύο) κελιά που χωρίζει ο τοίχος είναι μέρος του λαβυρίνθου, τότε:\n",
        "                    #Ανάλογα πλέον με τη περίπτωση έχουμε βρεί με ποιο κελί-μέρος του λαβυρίνθου συνορεύει ο τοίχος και\n",
        "                    #και παίρνουμε το αντιδιαμετρικό του- τοίχο (το οποίο εξασφαλίστηκε απο την wall_neighboors) και αν ειναι νόμικο \n",
        "                    #το κάνουμε τόσο αυτό όσο και το τοίχο κελία -μέρη του λαβυρίνθου\n",
        "                    if(0 in wall_neghb_set): \n",
        "                        check=(x+1,y)\n",
        "                        self.update_maze((x,y),check,frontiers)\n",
        "                    elif(1 in wall_neghb_set):\n",
        "                        check=(x-1,y)\n",
        "                        self.update_maze((x,y),check,frontiers)\n",
        "                    elif(2 in wall_neghb_set):\n",
        "                        check=(x,y+1)\n",
        "                        self.update_maze((x,y),check,frontiers)\n",
        "                    elif(3 in wall_neghb_set):\n",
        "                        check=(x,y-1)\n",
        "                        self.update_maze((x,y),check,frontiers)\n",
        "            frontiers.remove(removed) #Ο τοίχος αφαιρείται από τη λίστα των τοίχων\n",
        "        self.node_alone(start)\n",
        "        self.node_alone(end)\n",
        "\n",
        "    def draw_map(self, S=None, F=None, path=None):\n",
        "        image = np.zeros((self.N, self.N, 3), dtype=int)\n",
        "        image[self.grid == 0] = [255, 255, 255]\n",
        "        image[self.grid == 1] = [0, 0, 0]\n",
        "        if S:\n",
        "            image[S] = [50, 168, 64]\n",
        "        if F:\n",
        "            image[F] = [168, 50, 50]\n",
        "        if path:\n",
        "            for n in path[1:-1]:\n",
        "                image[n] = [66, 221, 245]\n",
        "\n",
        "        plt.imshow(image)\n",
        "        plt.xticks([])\n",
        "        plt.yticks([])\n",
        "        plt.show()"
      ],
      "execution_count": 2,
      "outputs": []
    },
    {
      "cell_type": "markdown",
      "metadata": {
        "id": "mfGf9hhdno5p"
      },
      "source": [
        "Τρέξτε το παρακάτω κελί κώδικα πριν παραδώσετε την άσκηση για να φαίνονται παραδείγματα λαβυρίνθων. Μπορείτε να το τροποποιήσετε."
      ]
    },
    {
      "cell_type": "code",
      "metadata": {
        "colab": {
          "base_uri": "https://localhost:8080/",
          "height": 722
        },
        "id": "_MLyU3kSSDwg",
        "outputId": "40de32ed-42b1-4a29-b21a-04edf950391e"
      },
      "source": [
        "for N, S, F in (11, (1, 3), (7, 9)), (25, (3, 7), (23, 19)), (51, (9, 3), (41, 41)):\n",
        "    map = Maze(N, S, F)\n",
        "    map.make_random_path(S,F)\n",
        "    map.draw_map(S, F)"
      ],
      "execution_count": 3,
      "outputs": [
        {
          "output_type": "display_data",
          "data": {
            "image/png": "[encoded data removed]",
            "text/plain": [
              "<Figure size 432x288 with 1 Axes>"
            ]
          },
          "metadata": {}
        },
        {
          "output_type": "display_data",
          "data": {
            "image/png": "[encoded data removed]",
            "text/plain": [
              "<Figure size 432x288 with 1 Axes>"
            ]
          },
          "metadata": {}
        },
        {
          "output_type": "display_data",
          "data": {
            "image/png": "[encoded data removed]",
            "text/plain": [
              "<Figure size 432x288 with 1 Axes>"
            ]
          },
          "metadata": {}
        }
      ]
    },
    {
      "cell_type": "markdown",
      "metadata": {
        "id": "UeXlHQhCkL2Y"
      },
      "source": [
        "Βλέπουμε ότι παράγονται λαβύρινθοι για όλο και μεγαλύτερο Ν καθώς και ότι σε όλες τις περιπτώσεις έχουμε πάνω από ένα μνοπάτι που ήταν και το ζητούμενο"
      ]
    },
    {
      "cell_type": "markdown",
      "metadata": {
        "id": "7XhekogLCJ1i"
      },
      "source": [
        "## Μέρος 2\n",
        "\n",
        "Παρακάτω σας δίνετε ο σκελετός της κλάσης Pathfinder η οποία αρχικοποιείται με ένα αντικείμενο ```Maze``` (από το πρώτο μέρος), τη συνάρτηση πραγματικού κόστους ```c``` και την ευριστική ```h```. Σε αυτήν θα υλοποιήσετε τον αλγόριθμο αναζήτησης Α*.\n",
        "\n"
      ]
    },
    {
      "cell_type": "markdown",
      "metadata": {
        "id": "VB74pnMwj4kr"
      },
      "source": [
        "## EΞΗΓΗΣΗ ΛΕΙΤΟΥΡΓΙΑΣ 2ΟΥ ΜΕΡΟΥΣ"
      ]
    },
    {
      "cell_type": "markdown",
      "metadata": {
        "id": "urrEIkW_kBo7"
      },
      "source": [
        "ΕΞΗΓΗΣΗ ΛΕΙΤΟΥΡΓΙΑΣ ΜΕΡΟΥΣ 2\n",
        "Στο μέρος 2 υλοποιήσαμε τον Α* αλγόριθμο ώστε να βρούμε συντομότερα μονοπάτια απο τον αρχικό κόμβο προς τον τελικό κόμβο. Συγκεκριμένα, έχουμε υλοποιήσει τη συνάρτηση find_path όπου αρχικά έχουμε το ανοιχτό σύνολο(μέτωπο αναζήτησης) και το κλειστό σύνολο καθώς και ένα dictionary στο οποίο κρατάμε τους γονείς των κόμβων απο τους οποίους περνά ο αλγόριθμος.Αρχικά το ανοιχτό σύνολο περιέχει μόνο τον αρχικό κόμβο ο οποίος είναι ο S. Έπειτα για κάθε γειτονικό κόμβο άμα αυτός δε βρίσκεται ούτε στο ανοιχτό ούτε στο κλειστό σύνολο τότε τον προσθέτουμε στο ανοικτό σύνολο αλλιώς ελέγχουμε αν η καινούρια απόσταση που βρίσκουμε είναι καλύτερη απο την υπάρχουσα απόσταση για τον κόμβο ώστε να ενημερώσουμε το μονοπάτι με το οποίο φτάνουμε στον κόμβο καθώς και τη συνολική  απόσταση του κόμβου.Αν φτάσουμε στον κόμβο στόχο τότε μέσω ελέγχου του dictionary βρίσκουμε το μονοπάτι απο το οποίο φτάσαμε στον τελικό κόμβο και κρατάμε όλους αυτούς τους κόμβους του μονοπατιού στη λίστα path την οποία και επιστρέφουμε. Έπειτα δοκιμάσαμε τον Α* σε ένα λαβύρινθο 41X41 με τις διάφορες συναρτήσεις g και h που δίνονται στην εκφώνηση.Παρατηρούμε ότι για:\n",
        "\n",
        "α)g=0 και  h={manhattan,euclidean} προκύπτει ο αλγόριθμος best-first\n",
        "\n",
        "β)g=1,h=0 προκύπτει ο αλγόριθμος BFS\n",
        "\n",
        "γ)g=1 και  h={manhattan,euclidean} προκύπτει ο αλγόριθμος Α*\n",
        "\n",
        "Ο Best First δε μπορεί να βρει το βέλτιστο μονπάτι διότι κοιτάει μόνο ευριστικές αποστάσεις και όχι τις πραγματικές αποστάσεις των κόμβων απο την αρχή.\n",
        "\n",
        "Ο BFS δε μπορεί επίσης να βρει το βέλτιστο μονοπάτι διότι θα βρει το μονοπάτι με το μικρότερο πλάτος απο την αρχή χωρίς αυτό να σημαίνει ότι το μονοπάτι είναι το συντομότερο ως προς το μήκος του.\n",
        "\n",
        "Ο Α* μπορεί να βρει το συντομότερο μονοπάτι μόνο υπό την προυπόθεση ότι η ευριστική απόσταση για κάθε κόμβο είναι μικρότερη ή ίση της ελάχιστης πραγματικής απόστασης του κόμβου απο τον κόμβο στόχο.\n",
        "\n",
        "Άλλες πιθανές ευριστικές συναρτήσεις είναι η:\n",
        "α)max(x,y)\n",
        "β)min(x,y)\n",
        "γ)sqrt((x^3+y^3),3)\n",
        "όπου x=abs(x_στόχου-x_τρέχοντα κόμβου) και y=abs(y_στόχου-y_τρέχοντα κόμβου)"
      ]
    },
    {
      "cell_type": "code",
      "metadata": {
        "id": "dXgXz9ZbCR2y"
      },
      "source": [
        "class Pathfinder:\n",
        "    def __init__(self, S, F, maze, c, h):\n",
        "        \"\"\"\n",
        "        maze : Αντικείμενο τύπου Maze (από Μέρος 1)\n",
        "        c : Συνάρτηση που υπολογίζει την πραγματική απόσταση μεταξύ δύο σημείων\n",
        "        h : Συνάρτηση που υπολογίζει την ευριστική μεταξύ δύο σημείων\n",
        "        \"\"\"\n",
        "        self.S = S\n",
        "        self.F = F\n",
        "        self.maze = maze\n",
        "        self.cost = c\n",
        "        self.heuristic = h\n",
        "        #for visualization\n",
        "        self.vis = visualization(S, F)\n",
        "        self.path=[]\n",
        "        self.expanded_nodes=[] #for the visualization\n",
        "\n",
        "    ### Fill the path list with the coordinates of each point in the path from maze.S to maze.F\n",
        "    ### Your code here\n",
        "    def find_path(self,part3=False):\n",
        "        #open_list is a set with the nodes whose neighbours haven't been inspected yet\n",
        "        open_list = {S}\n",
        "        #closed_list is a set with all the nodes whose neighbours have been inspected\n",
        "        #These are the expanded nodes\n",
        "        closed_list = set()\n",
        "        #g(n) is the real cost for node n\n",
        "        g={} # πραγματική απόσταση που έχουμε διανύσει\n",
        "        g[S]=0\n",
        "        parent_dict = {}\n",
        "        parent_dict[S] = S\n",
        "        #Loop until you find the end\n",
        "        while len(open_list) > 0:\n",
        "            #in order to make the visualization:\n",
        "            if(part3):\n",
        "                frontier=list(open_list)\n",
        "                expanded_nodes=list(closed_list)\n",
        "                self.vis.draw_step(self.maze, frontier, expanded_nodes)\n",
        "\n",
        "            current_node = None\n",
        "            #check nodes that haven't been inspected yet, find the one with the minimum cost and save it as current_node\n",
        "            for v in open_list: # βρίσκει μόνο το μικρότερο\n",
        "               #c-> lambda x,y \n",
        "               #h->lambda\n",
        "                if current_node == None or self.cost(g[v],self.heuristic(v,F)) < self.cost(g[current_node] ,self.heuristic(current_node,F)):\n",
        "                    current_node = v; # το κανει current node\n",
        "            open_list.remove(current_node)\n",
        "            closed_list.add(current_node)\n",
        "            #if current_node is the final node F follow the path that led us here by finding the parent of each node.\n",
        "            if current_node == F: #αν είναι ίσο με το τελικό\n",
        "                path = []\n",
        "                while parent_dict[current_node] != current_node:\n",
        "                    path.append(current_node)\n",
        "                    current_node = parent_dict[current_node]\n",
        "                path.append(S)\n",
        "                path.reverse()\n",
        "                self.path=path\n",
        "                self.expanded_nodes=closed_list\n",
        "                if(part3):\n",
        "                    self.vis.add_path(path)\n",
        "                return path\n",
        "            #if current_node is not the final node, we need to check its adjacent nodes that are not in either the closed or the open list\n",
        "            #and add them in the open list, while saving their parent node(current_node) and their cost.\n",
        "            adjacent_nodes = []\n",
        "            for n in (current_node[0] - 1, current_node[1]), (current_node[0] + 1, current_node[1]), (current_node[0], current_node[1] - 1), (current_node[0], current_node[1] + 1):\n",
        "                if self.maze.is_legal(n):\n",
        "                    if self.maze.grid[n] == 0 :\n",
        "                        adjacent_nodes.append(n)\n",
        "            for n in adjacent_nodes:                 \n",
        "                if n not in open_list and n not in closed_list:\n",
        "                    open_list.add(n)\n",
        "                    parent_dict[n] = current_node\n",
        "                    g[n] = g[current_node] + 1\n",
        "               #if an adjacent node is in the open or the closed list, we need to check if it has cost is bigger than g[current_node]+1\n",
        "                else:\n",
        "                    if n in open_list:\n",
        "                        if g[n] > g[current_node] + 1:\n",
        "                            g[n] = g[current_node] + 1\n",
        "                            parent_dict[n] = current_node                \n",
        "        #we've found a better cost for node n.\n",
        "\n",
        "    def get_path(self):\n",
        "        return self.path\n",
        "\n",
        "    def get_expanded_nodes(self):\n",
        "        return self.expanded_nodes\n",
        "      \n"
      ],
      "execution_count": 4,
      "outputs": []
    },
    {
      "cell_type": "markdown",
      "metadata": {
        "id": "7mA1elqEy-GU"
      },
      "source": [
        "Για να δείτε το μονοπάτι που κατασκευάσατε, μπορείτε να καλείτε τη μέθοδο ```draw_map``` του αντικειμένου ```maze``` οπως φαίνεται στο παρακάτω κελί."
      ]
    },
    {
      "cell_type": "code",
      "metadata": {
        "id": "fwcVPbRACUIz"
      },
      "source": [
        "import math\n",
        "\n",
        "## A heuristic\n",
        "\n",
        "\n",
        "def manhattan_distance(S,F):\n",
        "    return(abs(S[0]-F[0])+ abs(S[1]-F[1]))\n",
        "\n",
        "def euclidean_distance(S,F):\n",
        "    return np.sqrt(pow(S[0]-F[0],2) + pow(S[1]-F[1],2))\n",
        "\n",
        "\n",
        "## Create a 41x41 maze\n",
        "N = 41\n",
        "S = (5, 9)\n",
        "F = (37, 37)\n",
        "maze = Maze(N, S, F)\n",
        "maze.make_random_path(S,F)\n",
        "\n",
        "## Find and visualize the path\n",
        "#pf = Pathfinder(maze=maze, c = lambda x, y: 1, h = my_function)\n",
        "#maze.draw_map(pf.get_path())"
      ],
      "execution_count": 5,
      "outputs": []
    },
    {
      "cell_type": "markdown",
      "metadata": {
        "id": "lulTcEPq0nMV"
      },
      "source": [
        "Για να χρονομετρήσετε το τρέξιμο ενός κελιού μπορείτε να χρησιμοποιήσετε το μαγικό ```%%time```"
      ]
    },
    {
      "cell_type": "markdown",
      "metadata": {
        "id": "EVpDhZlLkiUI"
      },
      "source": [
        "Best First (manhattan_distance)"
      ]
    },
    {
      "cell_type": "code",
      "metadata": {
        "colab": {
          "base_uri": "https://localhost:8080/",
          "height": 320
        },
        "id": "--yjHv6503F_",
        "outputId": "316f58e5-d7a1-4f43-f0c9-dc66cce12acf"
      },
      "source": [
        "%%time\n",
        "pf = Pathfinder(S, F, map, lambda x, y: y, lambda x, y:manhattan_distance(x,y))\n",
        "pf.find_path()\n",
        "pf.get_expanded_nodes()\n",
        "print(\"When Heuristic is manhattan_distance\")\n",
        "print(\"Best First's path  has length \",len(pf.get_path()))\n",
        "map.draw_map(S,F,pf.get_path())\n",
        "#pf = Pathfinder(maze, c= my_function, h=my_function)\n",
        "#map.draw_map(pf.get_path())\n",
        "#pf.vis.show_gif(fps = 1)\n"
      ],
      "execution_count": 6,
      "outputs": [
        {
          "output_type": "stream",
          "name": "stdout",
          "text": [
            "When Heuristic is manhattan_distance\n",
            "Best First's path  has length  61\n"
          ]
        },
        {
          "output_type": "display_data",
          "data": {
            "image/png": "[encoded data removed]",
            "text/plain": [
              "<Figure size 432x288 with 1 Axes>"
            ]
          },
          "metadata": {}
        },
        {
          "output_type": "stream",
          "name": "stdout",
          "text": [
            "CPU times: user 58.9 ms, sys: 771 µs, total: 59.7 ms\n",
            "Wall time: 63.8 ms\n"
          ]
        }
      ]
    },
    {
      "cell_type": "markdown",
      "metadata": {
        "id": "CKQL0cswkumB"
      },
      "source": [
        "Best First (euclidean_distance)"
      ]
    },
    {
      "cell_type": "code",
      "metadata": {
        "colab": {
          "base_uri": "https://localhost:8080/",
          "height": 320
        },
        "id": "5Bjn6BFB_bBq",
        "outputId": "9c2a2e0e-9d5b-483b-fdbb-353006ff7e6f"
      },
      "source": [
        "%%time\n",
        "pf1 = Pathfinder(S, F, map, lambda x, y: y, lambda x, y:euclidean_distance(x,y))\n",
        "pf1.find_path()\n",
        "pf1.get_expanded_nodes()\n",
        "print(\"When Heuristic is euclidean_distance\")\n",
        "print(\"Best First's path  has length \",len(pf1.get_path()))\n",
        "map.draw_map(S,F,pf.get_path())"
      ],
      "execution_count": 7,
      "outputs": [
        {
          "output_type": "stream",
          "name": "stdout",
          "text": [
            "When Heuristic is euclidean_distance\n",
            "Best First's path  has length  67\n"
          ]
        },
        {
          "output_type": "display_data",
          "data": {
            "image/png": "[encoded data removed]",
            "text/plain": [
              "<Figure size 432x288 with 1 Axes>"
            ]
          },
          "metadata": {}
        },
        {
          "output_type": "stream",
          "name": "stdout",
          "text": [
            "CPU times: user 65.5 ms, sys: 3.96 ms, total: 69.4 ms\n",
            "Wall time: 69.9 ms\n"
          ]
        }
      ]
    },
    {
      "cell_type": "markdown",
      "metadata": {
        "id": "ycBWngmbk0le"
      },
      "source": [
        "BFS (euclidean_distance)"
      ]
    },
    {
      "cell_type": "code",
      "metadata": {
        "colab": {
          "base_uri": "https://localhost:8080/",
          "height": 320
        },
        "id": "QEq2C3l9tRKi",
        "outputId": "2d6e3773-a725-4734-b810-df66a9fe81c7"
      },
      "source": [
        "%%time\n",
        "#Για τον αλγόριθμο BFS:\n",
        "pf = Pathfinder(S, F, map, lambda x, y: 1 ,lambda x, y:euclidean_distance(x,y))\n",
        "pf.find_path()\n",
        "print(\"When Heuristic is euclidean_distance\")\n",
        "print(\"BFS's path has length \",len(pf.get_path()))\n",
        "map.draw_map(S,F,pf.get_path())"
      ],
      "execution_count": 8,
      "outputs": [
        {
          "output_type": "stream",
          "name": "stdout",
          "text": [
            "When Heuristic is euclidean_distance\n",
            "BFS's path has length  121\n"
          ]
        },
        {
          "output_type": "display_data",
          "data": {
            "image/png": "[encoded data removed]",
            "text/plain": [
              "<Figure size 432x288 with 1 Axes>"
            ]
          },
          "metadata": {}
        },
        {
          "output_type": "stream",
          "name": "stdout",
          "text": [
            "CPU times: user 329 ms, sys: 0 ns, total: 329 ms\n",
            "Wall time: 330 ms\n"
          ]
        }
      ]
    },
    {
      "cell_type": "markdown",
      "metadata": {
        "id": "RSuQP3cRk62v"
      },
      "source": [
        "A* (manhattan_distance)"
      ]
    },
    {
      "cell_type": "code",
      "metadata": {
        "colab": {
          "base_uri": "https://localhost:8080/",
          "height": 320
        },
        "id": "M8o5j2oKtOZS",
        "outputId": "404cab50-401c-448d-ce09-8b0f587d8bdb"
      },
      "source": [
        "%%time\n",
        "pf = Pathfinder(S, F, map, lambda x, y: x+y, lambda x, y:manhattan_distance(x,y))\n",
        "pf.find_path()\n",
        "print(\"When Heuristic is manhattan_distance\")\n",
        "print(\"A*'s path has length\",len(pf.get_path()))\n",
        "map.draw_map(S,F,pf.get_path())"
      ],
      "execution_count": 9,
      "outputs": [
        {
          "output_type": "stream",
          "name": "stdout",
          "text": [
            "When Heuristic is manhattan_distance\n",
            "A*'s path has length 61\n"
          ]
        },
        {
          "output_type": "display_data",
          "data": {
            "image/png": "[encoded data removed]",
            "text/plain": [
              "<Figure size 432x288 with 1 Axes>"
            ]
          },
          "metadata": {}
        },
        {
          "output_type": "stream",
          "name": "stdout",
          "text": [
            "CPU times: user 67.4 ms, sys: 1.74 ms, total: 69.2 ms\n",
            "Wall time: 76.4 ms\n"
          ]
        }
      ]
    },
    {
      "cell_type": "markdown",
      "metadata": {
        "id": "R6uUoH0Uk_Bu"
      },
      "source": [
        "A* (euclidean_distance)"
      ]
    },
    {
      "cell_type": "code",
      "metadata": {
        "colab": {
          "base_uri": "https://localhost:8080/",
          "height": 320
        },
        "id": "P54rcLum_BkW",
        "outputId": "70019a34-42fd-43e3-cc82-1988cf572647"
      },
      "source": [
        "%%time\n",
        "pf1 = Pathfinder(S, F, map, lambda x, y: x+y, lambda x, y:euclidean_distance(x,y))\n",
        "pf1.find_path()\n",
        "print(\"When Heuristic is euclidean_distance\")\n",
        "print(\"A*'s path has length\",len(pf1.get_path()))\n",
        "map.draw_map(S,F,pf.get_path())"
      ],
      "execution_count": 10,
      "outputs": [
        {
          "output_type": "stream",
          "name": "stdout",
          "text": [
            "When Heuristic is euclidean_distance\n",
            "A*'s path has length 61\n"
          ]
        },
        {
          "output_type": "display_data",
          "data": {
            "image/png": "[encoded data removed]",
            "text/plain": [
              "<Figure size 432x288 with 1 Axes>"
            ]
          },
          "metadata": {}
        },
        {
          "output_type": "stream",
          "name": "stdout",
          "text": [
            "CPU times: user 198 ms, sys: 160 µs, total: 198 ms\n",
            "Wall time: 199 ms\n"
          ]
        }
      ]
    },
    {
      "cell_type": "markdown",
      "metadata": {
        "id": "XmmqhRLfEjKj"
      },
      "source": [
        "## Μέρος 3\n",
        "\n",
        "Στο παρακάτω κελί σας δίνεται ένα παράδειγμα για την κατασκευή γραφικών παραστάσεων. Θα πρέπει να κατασκευάσετε τις δύο γραφικές παραστάσεις σύμφωνα με τα ζητούμενα της άσκησης."
      ]
    },
    {
      "cell_type": "markdown",
      "metadata": {
        "id": "bAh1t8FpOSPK"
      },
      "source": [
        "#ΣΧΟΛΙΑΣΜΟΣ ΜΕΡΟΥΣ 3\n"
      ]
    },
    {
      "cell_type": "markdown",
      "metadata": {
        "id": "H6JgBpqLOnmz"
      },
      "source": [
        "Στο μέρος 3 κατασκευάσαμε αλγορίθμους για όλες τις διαστάσεις Ν απο 10 μέχρι 50 και για κάθε αλγόριθμο και κάθε λαβύρινθο βρήκαμε τον αριθμό των επεκτεταμένων κόμβων και το μήκος του μονοπατιού τα οποία και έχουμε παρουσιάσει σε γραφικές παραστάσεις. \n",
        "\n",
        "Στην 1η γραφική φαίνεται το μήκος του μονοπατιού σε σχέση με το μέγεθος του λαβυρίνθου για κάθε αλγόριθμο. \n",
        "\n",
        "Στη 2η φαίνεται η σχέση του αριθμού των επεκτεταμένων κόμβων με το μέγεθος του λαβυρίνθου για κάθε αλγόριθμο.\n",
        "\n"
      ]
    },
    {
      "cell_type": "markdown",
      "metadata": {
        "id": "kk18CxH6rp0_"
      },
      "source": [
        "Σχόλιο\n",
        "\n",
        "Λόγω μιας τεχνικής δυσκολίας με το loop για τους 10 λαβυρίνθους με ίδιο Ν που ζητούνταν επαναλάβαμε τον ίδιο κώδικα 5 φορές και βρήκαμε έναν μέσο όρο για κάθε μια από τις τιμές που βγάλαμε για τους διάφορους αλγορίθμους και τα διάφορα Ν.\n",
        "(εκεί οφείλονται τα πολλά κελιά κώδικα)"
      ]
    },
    {
      "cell_type": "code",
      "metadata": {
        "colab": {
          "base_uri": "https://localhost:8080/"
        },
        "id": "OG0fMCXN0GDz",
        "outputId": "5bfdbdba-237b-4edb-acab-32221169b588"
      },
      "source": [
        "import random\n",
        "path_lengths = list()\n",
        "expand_lengths = list()\n",
        "for N in range(10,51):\n",
        "    S = (2,2) \n",
        "    F = (N-2,N-2)\n",
        "    map = Maze(N, S, F)\n",
        "    map.make_random_path(S,F)\n",
        "    pf1 = Pathfinder(S, F, map, lambda x, y: y, lambda x, y:manhattan_distance(x,y)) #Best First Manhattan\n",
        "    pf2 = Pathfinder(S,F,map,lambda x, y: y, lambda x, y:euclidean_distance(x,y))    #Best First euclidean\n",
        "    pf3 = Pathfinder(S, F, map, lambda x, y: 1 ,lambda x, y:euclidean_distance(x,y)) #BFS\n",
        "    pf4 = Pathfinder(S,F,map,lambda x, y: x+y, lambda x, y:manhattan_distance(x,y))  #A* manhattan\n",
        "    pf5 = Pathfinder(S,F,map,lambda x, y: x+y, lambda x, y:euclidean_distance(x,y))  #A* euclidean\n",
        "    paths_list=[pf1.find_path(),pf2.find_path(),pf3.find_path(),pf4.find_path(),pf5.find_path()]\n",
        "    ex_nodes_list=[pf1.get_expanded_nodes(),pf2.get_expanded_nodes(),pf3.get_expanded_nodes(),pf4.get_expanded_nodes(),pf5.get_expanded_nodes()]\n",
        "    paths=[len(x) for x in paths_list]\n",
        "    expands=[len(y) for y in ex_nodes_list]\n",
        "    path_lengths.append(paths)\n",
        "    expand_lengths.append(expands)\n",
        "    #map.draw_map(S,F,pf1.get_path())\n",
        "    #map.draw_map(S,F,pf2.get_path())\n",
        "print(path_lengths)\n",
        "print(expand_lengths)"
      ],
      "execution_count": 11,
      "outputs": [
        {
          "output_type": "stream",
          "name": "stdout",
          "text": [
            "[[13, 13, 19, 13, 13], [17, 15, 17, 15, 15], [17, 17, 17, 17, 17], [21, 21, 21, 21, 21], [23, 23, 23, 23, 23], [25, 27, 27, 25, 25], [27, 27, 35, 27, 27], [29, 29, 27, 27, 27], [29, 29, 33, 29, 29], [31, 31, 37, 31, 31], [35, 35, 35, 35, 35], [39, 37, 45, 37, 37], [37, 37, 39, 37, 37], [43, 41, 59, 41, 41], [49, 47, 55, 43, 43], [49, 45, 61, 45, 45], [53, 47, 61, 45, 45], [69, 61, 93, 49, 49], [57, 55, 61, 49, 49], [59, 55, 59, 53, 53], [55, 55, 55, 55, 55], [69, 59, 91, 57, 57], [57, 57, 79, 57, 57], [61, 61, 81, 61, 61], [65, 63, 75, 61, 61], [63, 63, 115, 63, 63], [67, 67, 105, 67, 67], [71, 73, 123, 69, 69], [81, 75, 83, 69, 69], [81, 81, 87, 71, 71], [89, 81, 99, 77, 77], [95, 81, 103, 77, 77], [79, 77, 91, 77, 77], [81, 79, 107, 79, 79], [89, 85, 107, 83, 83], [83, 83, 99, 83, 83], [93, 89, 157, 85, 85], [97, 89, 103, 87, 87], [91, 91, 133, 89, 89], [103, 93, 111, 91, 91], [99, 99, 151, 95, 95]]\n",
            "[[13, 13, 56, 19, 28], [17, 15, 49, 21, 44], [20, 19, 65, 34, 55], [24, 23, 80, 79, 90], [25, 25, 80, 35, 91], [31, 30, 128, 88, 117], [27, 31, 133, 72, 110], [33, 30, 93, 60, 131], [31, 30, 120, 61, 136], [32, 39, 196, 94, 146], [35, 36, 137, 109, 169], [49, 37, 125, 80, 168], [37, 37, 142, 85, 159], [43, 41, 251, 145, 288], [55, 48, 334, 126, 284], [49, 49, 320, 76, 286], [54, 54, 365, 95, 309], [86, 87, 378, 258, 378], [64, 59, 422, 87, 351], [60, 57, 291, 199, 384], [56, 56, 471, 334, 505], [69, 62, 455, 202, 470], [61, 57, 450, 169, 468], [64, 63, 246, 173, 536], [68, 67, 605, 125, 516], [71, 66, 597, 240, 606], [71, 67, 604, 179, 660], [76, 76, 469, 331, 729], [89, 86, 670, 336, 694], [84, 82, 667, 196, 742], [103, 81, 808, 623, 893], [100, 83, 848, 488, 875], [81, 81, 833, 166, 806], [89, 88, 870, 597, 962], [90, 90, 786, 715, 1121], [90, 86, 1183, 202, 1049], [98, 93, 1191, 278, 1109], [104, 96, 1127, 320, 1150], [95, 95, 1279, 370, 1143], [116, 95, 606, 336, 1239], [112, 110, 1358, 730, 1331]]\n"
          ]
        }
      ]
    },
    {
      "cell_type": "code",
      "metadata": {
        "colab": {
          "base_uri": "https://localhost:8080/"
        },
        "id": "w7ApoJhhaT5Z",
        "outputId": "bb2688a2-5772-44ec-8b10-c731d1ffbd02"
      },
      "source": [
        "import random\n",
        "path_lengths1 = list()\n",
        "expand_lengths1 = list()\n",
        "for N in range(10,51):\n",
        "    S = (2,4) \n",
        "    F = (N-3,N-3)\n",
        "    map = Maze(N, S, F)\n",
        "    map.make_random_path(S,F)\n",
        "    pf1 = Pathfinder(S, F, map, lambda x, y: y, lambda x, y:manhattan_distance(x,y)) #Best First Manhattan\n",
        "    pf2 = Pathfinder(S,F,map,lambda x, y: y, lambda x, y:euclidean_distance(x,y))    #Best First euclidean\n",
        "    pf3 = Pathfinder(S, F, map, lambda x, y: 1 ,lambda x, y:euclidean_distance(x,y)) #BFS\n",
        "    pf4 = Pathfinder(S,F,map,lambda x, y: x+y, lambda x, y:manhattan_distance(x,y))  #A* manhattan\n",
        "    pf5 = Pathfinder(S,F,map,lambda x, y: x+y, lambda x, y:euclidean_distance(x,y))  #A* euclidean\n",
        "    paths_list=[pf1.find_path(),pf2.find_path(),pf3.find_path(),pf4.find_path(),pf5.find_path()]\n",
        "    ex_nodes_list=[pf1.get_expanded_nodes(),pf2.get_expanded_nodes(),pf3.get_expanded_nodes(),pf4.get_expanded_nodes(),pf5.get_expanded_nodes()]\n",
        "    paths=[len(x) for x in paths_list]\n",
        "    expands=[len(y) for y in ex_nodes_list]\n",
        "    path_lengths1.append(paths)\n",
        "    expand_lengths1.append(expands)\n",
        "    #map.draw_map(S,F,pf1.get_path())\n",
        "    #map.draw_map(S,F,pf2.get_path())\n",
        "print(path_lengths1)\n",
        "print(expand_lengths1)"
      ],
      "execution_count": 12,
      "outputs": [
        {
          "output_type": "stream",
          "name": "stdout",
          "text": [
            "[[11, 11, 29, 11, 11], [11, 11, 11, 11, 11], [23, 19, 25, 17, 17], [17, 17, 17, 17, 17], [21, 21, 25, 21, 21], [29, 23, 23, 21, 21], [25, 25, 29, 25, 25], [27, 27, 29, 25, 25], [29, 27, 35, 27, 27], [31, 27, 33, 27, 27], [41, 37, 33, 31, 31], [33, 33, 33, 33, 33], [35, 33, 49, 33, 33], [37, 39, 51, 37, 37], [39, 45, 53, 37, 37], [55, 45, 51, 43, 43], [49, 49, 59, 43, 43], [45, 45, 53, 43, 43], [47, 47, 51, 45, 45], [49, 49, 53, 47, 47], [57, 53, 55, 49, 49], [57, 51, 79, 51, 51], [59, 53, 57, 53, 53], [59, 63, 71, 57, 57], [63, 63, 73, 61, 61], [67, 65, 93, 59, 59], [67, 61, 83, 61, 61], [69, 65, 105, 63, 63], [69, 65, 85, 65, 65], [73, 73, 103, 69, 69], [73, 73, 87, 71, 71], [77, 75, 109, 75, 75], [83, 77, 91, 75, 75], [79, 81, 105, 75, 75], [77, 79, 93, 77, 77], [85, 85, 135, 81, 81], [81, 83, 193, 81, 81], [95, 83, 103, 83, 83], [97, 89, 129, 89, 89], [103, 87, 141, 87, 87], [103, 97, 99, 91, 91]]\n",
            "[[13, 14, 49, 20, 23], [11, 11, 65, 13, 21], [25, 23, 87, 60, 68], [17, 20, 30, 23, 34], [24, 23, 81, 59, 76], [30, 23, 101, 56, 75], [27, 27, 99, 47, 98], [28, 28, 139, 89, 125], [35, 30, 153, 46, 76], [36, 29, 148, 60, 127], [45, 40, 151, 144, 180], [36, 34, 153, 148, 207], [38, 36, 218, 47, 143], [52, 51, 145, 46, 189], [39, 45, 171, 94, 215], [59, 46, 373, 316, 365], [52, 52, 328, 207, 316], [51, 47, 373, 167, 327], [47, 50, 355, 149, 311], [58, 56, 224, 129, 369], [74, 63, 402, 120, 373], [61, 57, 278, 144, 431], [74, 56, 474, 154, 398], [66, 67, 326, 178, 482], [63, 63, 526, 381, 596], [68, 65, 596, 186, 535], [77, 67, 579, 338, 539], [79, 74, 538, 125, 585], [73, 66, 582, 202, 693], [76, 75, 630, 257, 689], [75, 74, 719, 335, 776], [82, 81, 963, 598, 891], [84, 77, 532, 294, 796], [84, 82, 675, 377, 881], [81, 91, 1176, 500, 960], [86, 86, 847, 316, 969], [85, 86, 1213, 263, 974], [101, 87, 1280, 316, 1041], [101, 91, 1319, 370, 1127], [115, 87, 1133, 787, 1243], [105, 98, 1241, 587, 1203]]\n"
          ]
        }
      ]
    },
    {
      "cell_type": "code",
      "metadata": {
        "colab": {
          "base_uri": "https://localhost:8080/"
        },
        "id": "czN8CBKoamtq",
        "outputId": "7233333c-f77c-458e-e2f2-58e9188195db"
      },
      "source": [
        "import random\n",
        "path_lengths2 = list()\n",
        "expand_lengths2 = list()\n",
        "for N in range(10,51):\n",
        "    S = (1,3) \n",
        "    F = (N-3,N-3)\n",
        "    map = Maze(N, S, F)\n",
        "    map.make_random_path(S,F)\n",
        "    pf1 = Pathfinder(S, F, map, lambda x, y: y, lambda x, y:manhattan_distance(x,y)) #Best First Manhattan\n",
        "    pf2 = Pathfinder(S,F,map,lambda x, y: y, lambda x, y:euclidean_distance(x,y))    #Best First euclidean\n",
        "    pf3 = Pathfinder(S, F, map, lambda x, y: 1 ,lambda x, y:euclidean_distance(x,y)) #BFS\n",
        "    pf4 = Pathfinder(S,F,map,lambda x, y: x+y, lambda x, y:manhattan_distance(x,y))  #A* manhattan\n",
        "    pf5 = Pathfinder(S,F,map,lambda x, y: x+y, lambda x, y:euclidean_distance(x,y))  #A* euclidean\n",
        "    paths_list=[pf1.find_path(),pf2.find_path(),pf3.find_path(),pf4.find_path(),pf5.find_path()]\n",
        "    ex_nodes_list=[pf1.get_expanded_nodes(),pf2.get_expanded_nodes(),pf3.get_expanded_nodes(),pf4.get_expanded_nodes(),pf5.get_expanded_nodes()]\n",
        "    paths=[len(x) for x in paths_list]\n",
        "    expands=[len(y) for y in ex_nodes_list]\n",
        "    path_lengths2.append(paths)\n",
        "    expand_lengths2.append(expands)\n",
        "    #map.draw_map(S,F,pf1.get_path())\n",
        "    #map.draw_map(S,F,pf2.get_path())\n",
        "print(path_lengths2)\n",
        "print(expand_lengths2)"
      ],
      "execution_count": 13,
      "outputs": [
        {
          "output_type": "stream",
          "name": "stdout",
          "text": [
            "[[11, 11, 21, 11, 11], [15, 15, 17, 15, 15], [17, 17, 17, 17, 17], [17, 17, 27, 17, 17], [21, 21, 21, 21, 21], [33, 21, 25, 21, 21], [23, 23, 25, 23, 23], [25, 25, 27, 25, 25], [31, 31, 27, 27, 27], [29, 29, 45, 29, 29], [31, 31, 33, 31, 31], [35, 35, 35, 35, 35], [39, 39, 41, 35, 35], [37, 37, 39, 37, 37], [39, 39, 45, 39, 39], [43, 41, 45, 41, 41], [53, 45, 59, 43, 43], [51, 51, 57, 49, 49], [49, 49, 57, 47, 47], [53, 51, 61, 51, 51], [53, 51, 57, 51, 51], [55, 55, 67, 53, 53], [59, 57, 97, 55, 55], [77, 73, 103, 65, 65], [65, 63, 75, 59, 59], [77, 69, 77, 63, 63], [69, 67, 83, 65, 65], [69, 65, 83, 65, 65], [69, 67, 85, 67, 67], [71, 71, 85, 69, 69], [73, 75, 115, 71, 71], [91, 77, 91, 77, 77], [81, 77, 107, 75, 75], [85, 77, 91, 77, 77], [97, 89, 95, 79, 79], [81, 85, 129, 81, 81], [83, 89, 97, 83, 83], [91, 87, 123, 87, 87], [95, 91, 181, 87, 87], [93, 95, 135, 91, 91], [93, 93, 125, 91, 91]]\n",
            "[[11, 15, 32, 14, 20], [16, 15, 54, 18, 35], [17, 17, 53, 23, 36], [18, 17, 68, 28, 44], [22, 21, 50, 44, 65], [38, 25, 91, 56, 79], [25, 23, 78, 70, 88], [25, 25, 116, 54, 117], [35, 33, 142, 60, 98], [30, 29, 123, 52, 119], [32, 31, 239, 102, 154], [35, 35, 177, 97, 170], [42, 39, 154, 52, 167], [44, 37, 204, 94, 221], [40, 39, 243, 93, 242], [46, 41, 365, 81, 276], [56, 49, 313, 80, 292], [55, 51, 420, 291, 346], [50, 50, 434, 129, 319], [56, 56, 431, 244, 381], [53, 51, 403, 106, 331], [56, 56, 408, 187, 422], [60, 57, 545, 168, 458], [80, 84, 528, 296, 477], [69, 68, 579, 170, 536], [84, 74, 313, 472, 614], [73, 68, 715, 418, 675], [69, 66, 662, 255, 674], [75, 69, 718, 136, 600], [71, 73, 567, 267, 693], [75, 79, 813, 260, 782], [94, 85, 924, 643, 916], [87, 80, 772, 221, 827], [87, 77, 691, 267, 920], [104, 91, 680, 266, 904], [82, 89, 955, 224, 989], [92, 95, 744, 241, 1030], [93, 91, 1279, 701, 1141], [102, 91, 823, 323, 1182], [100, 95, 652, 343, 1202], [96, 94, 826, 205, 1162]]\n"
          ]
        }
      ]
    },
    {
      "cell_type": "code",
      "metadata": {
        "colab": {
          "base_uri": "https://localhost:8080/"
        },
        "id": "CLG_AWy4a58S",
        "outputId": "ba9f11c6-d78d-45b5-c9ca-5d0e06632a47"
      },
      "source": [
        "import random\n",
        "path_lengths3 = list()\n",
        "expand_lengths3 = list()\n",
        "for N in range(10,51):\n",
        "    S = (5,7) \n",
        "    F = (N-2,N-2)\n",
        "    map = Maze(N, S, F)\n",
        "    map.make_random_path(S,F)\n",
        "    pf1 = Pathfinder(S, F, map, lambda x, y: y, lambda x, y:manhattan_distance(x,y)) #Best First Manhattan\n",
        "    pf2 = Pathfinder(S,F,map,lambda x, y: y, lambda x, y:euclidean_distance(x,y))    #Best First euclidean\n",
        "    pf3 = Pathfinder(S, F, map, lambda x, y: 1 ,lambda x, y:euclidean_distance(x,y)) #BFS\n",
        "    pf4 = Pathfinder(S,F,map,lambda x, y: x+y, lambda x, y:manhattan_distance(x,y))  #A* manhattan\n",
        "    pf5 = Pathfinder(S,F,map,lambda x, y: x+y, lambda x, y:euclidean_distance(x,y))  #A* euclidean\n",
        "    paths_list=[pf1.find_path(),pf2.find_path(),pf3.find_path(),pf4.find_path(),pf5.find_path()]\n",
        "    ex_nodes_list=[pf1.get_expanded_nodes(),pf2.get_expanded_nodes(),pf3.get_expanded_nodes(),pf4.get_expanded_nodes(),pf5.get_expanded_nodes()]\n",
        "    paths=[len(x) for x in paths_list]\n",
        "    expands=[len(y) for y in ex_nodes_list]\n",
        "    path_lengths3.append(paths)\n",
        "    expand_lengths3.append(expands)\n",
        "    #map.draw_map(S,F,pf1.get_path())\n",
        "    #map.draw_map(S,F,pf2.get_path())\n",
        "print(path_lengths3)\n",
        "print(expand_lengths3)"
      ],
      "execution_count": 14,
      "outputs": [
        {
          "output_type": "stream",
          "name": "stdout",
          "text": [
            "[[5, 5, 5, 5, 5], [7, 7, 21, 7, 7], [9, 9, 11, 9, 9], [11, 11, 11, 11, 11], [19, 13, 19, 13, 13], [17, 17, 17, 17, 17], [17, 17, 19, 17, 17], [21, 21, 23, 21, 21], [25, 25, 25, 23, 23], [29, 25, 27, 25, 25], [33, 29, 33, 27, 27], [29, 29, 33, 27, 27], [29, 31, 33, 29, 29], [37, 37, 43, 31, 31], [37, 35, 33, 33, 33], [37, 37, 55, 37, 37], [41, 43, 53, 41, 41], [39, 39, 53, 39, 39], [43, 41, 55, 41, 41], [57, 51, 53, 47, 47], [55, 49, 61, 47, 47], [47, 47, 77, 47, 47], [55, 53, 63, 51, 51], [51, 51, 59, 51, 51], [57, 55, 59, 53, 53], [55, 55, 109, 55, 55], [59, 59, 69, 59, 59], [63, 65, 91, 61, 61], [61, 71, 107, 61, 61], [65, 65, 91, 63, 63], [67, 65, 91, 65, 65], [77, 69, 89, 67, 67], [75, 71, 81, 71, 71], [75, 75, 103, 73, 73], [77, 73, 109, 73, 73], [81, 85, 99, 77, 77], [85, 81, 105, 79, 79], [85, 81, 89, 81, 81], [83, 85, 133, 81, 81], [95, 89, 111, 87, 87], [89, 85, 125, 85, 85]]\n",
            "[[5, 5, 9, 5, 5], [8, 7, 52, 8, 9], [10, 9, 78, 10, 11], [11, 11, 81, 18, 19], [20, 17, 105, 21, 26], [19, 19, 100, 48, 61], [22, 21, 132, 33, 49], [27, 24, 136, 76, 103], [32, 25, 146, 89, 113], [30, 26, 156, 92, 145], [35, 29, 189, 110, 159], [35, 35, 124, 38, 89], [31, 31, 204, 58, 163], [38, 38, 247, 69, 172], [45, 38, 309, 104, 181], [37, 38, 355, 104, 240], [49, 49, 246, 150, 306], [42, 39, 359, 109, 266], [47, 41, 410, 60, 271], [57, 59, 373, 112, 360], [63, 59, 340, 167, 347], [47, 53, 482, 89, 407], [59, 53, 314, 105, 453], [54, 51, 521, 164, 527], [57, 57, 447, 167, 507], [56, 55, 586, 99, 578], [61, 59, 495, 181, 577], [64, 68, 770, 142, 609], [64, 73, 647, 172, 679], [69, 65, 463, 205, 611], [69, 72, 773, 217, 705], [82, 71, 528, 196, 814], [75, 73, 857, 271, 790], [80, 81, 642, 332, 863], [79, 73, 595, 283, 937], [82, 86, 1135, 447, 1006], [97, 89, 1211, 716, 1176], [88, 88, 1381, 598, 1253], [88, 97, 1105, 306, 1167], [98, 93, 1022, 292, 1224], [89, 88, 1226, 354, 1296]]\n"
          ]
        }
      ]
    },
    {
      "cell_type": "code",
      "metadata": {
        "colab": {
          "base_uri": "https://localhost:8080/"
        },
        "id": "AKlrtwjxbxre",
        "outputId": "a4133b5c-1272-4dc7-89ce-2019bae6ef96"
      },
      "source": [
        "import random\n",
        "path_lengths4 = list()\n",
        "expand_lengths4 = list()\n",
        "for N in range(10,51):\n",
        "    S = (9,9) \n",
        "    F = (N-8,N-5)\n",
        "    map = Maze(N, S, F)\n",
        "    map.make_random_path(S,F)\n",
        "    pf1 = Pathfinder(S, F, map, lambda x, y: y, lambda x, y:manhattan_distance(x,y)) #Best First Manhattan\n",
        "    pf2 = Pathfinder(S,F,map,lambda x, y: y, lambda x, y:euclidean_distance(x,y))    #Best First euclidean\n",
        "    pf3 = Pathfinder(S, F, map, lambda x, y: 1 ,lambda x, y:euclidean_distance(x,y)) #BFS\n",
        "    pf4 = Pathfinder(S,F,map,lambda x, y: x+y, lambda x, y:manhattan_distance(x,y))  #A* manhattan\n",
        "    pf5 = Pathfinder(S,F,map,lambda x, y: x+y, lambda x, y:euclidean_distance(x,y))  #A* euclidean\n",
        "    paths_list=[pf1.find_path(),pf2.find_path(),pf3.find_path(),pf4.find_path(),pf5.find_path()]\n",
        "    ex_nodes_list=[pf1.get_expanded_nodes(),pf2.get_expanded_nodes(),pf3.get_expanded_nodes(),pf4.get_expanded_nodes(),pf5.get_expanded_nodes()]\n",
        "    paths=[len(x) for x in paths_list]\n",
        "    expands=[len(y) for y in ex_nodes_list]\n",
        "    path_lengths4.append(paths)\n",
        "    expand_lengths4.append(expands)\n",
        "    #map.draw_map(S,F,pf1.get_path())\n",
        "    #map.draw_map(S,F,pf2.get_path())\n",
        "print(path_lengths4)\n",
        "print(expand_lengths4)"
      ],
      "execution_count": 15,
      "outputs": [
        {
          "output_type": "stream",
          "name": "stdout",
          "text": [
            "[[20, 14, 20, 14, 14], [16, 16, 16, 14, 14], [8, 8, 12, 8, 8], [12, 12, 12, 12, 12], [4, 4, 4, 4, 4], [20, 20, 32, 16, 16], [18, 18, 14, 14, 14], [6, 6, 6, 6, 6], [6, 6, 6, 6, 6], [8, 8, 8, 8, 8], [12, 12, 14, 12, 12], [18, 18, 18, 14, 14], [16, 14, 14, 14, 14], [18, 16, 36, 16, 16], [22, 20, 22, 20, 20], [20, 20, 64, 20, 20], [26, 26, 38, 26, 26], [24, 24, 24, 24, 24], [28, 28, 30, 28, 28], [38, 32, 40, 32, 32], [34, 34, 40, 30, 30], [46, 34, 36, 32, 32], [38, 34, 38, 34, 34], [42, 40, 54, 40, 40], [40, 40, 62, 40, 40], [44, 40, 88, 40, 40], [46, 44, 52, 42, 42], [44, 46, 60, 44, 44], [54, 54, 56, 46, 46], [52, 54, 62, 52, 52], [54, 52, 76, 52, 52], [52, 58, 90, 52, 52], [60, 54, 58, 54, 54], [58, 60, 122, 58, 58], [60, 62, 106, 58, 58], [72, 74, 82, 70, 70], [78, 74, 76, 66, 66], [68, 64, 106, 64, 64], [68, 66, 78, 66, 66], [76, 70, 92, 68, 68], [78, 82, 86, 72, 72]]\n",
            "[[27, 14, 56, 33, 33], [18, 18, 60, 22, 22], [9, 8, 14, 9, 9], [13, 12, 21, 18, 25], [4, 4, 24, 4, 4], [28, 24, 127, 33, 39], [23, 24, 81, 30, 32], [7, 7, 14, 8, 8], [6, 6, 59, 6, 6], [8, 8, 58, 11, 11], [12, 12, 146, 21, 30], [19, 19, 151, 23, 33], [16, 14, 118, 24, 42], [18, 16, 212, 20, 41], [26, 23, 359, 50, 71], [20, 20, 276, 20, 56], [29, 26, 358, 68, 128], [24, 24, 100, 46, 79], [31, 31, 462, 52, 143], [40, 33, 238, 120, 175], [36, 36, 288, 72, 160], [49, 34, 304, 59, 171], [39, 34, 361, 102, 215], [44, 45, 297, 240, 372], [41, 41, 255, 62, 249], [48, 40, 493, 68, 163], [46, 44, 501, 156, 346], [46, 46, 517, 93, 362], [57, 55, 616, 172, 417], [53, 55, 671, 401, 546], [56, 52, 934, 277, 516], [54, 60, 790, 305, 502], [61, 55, 616, 190, 550], [59, 62, 1032, 126, 591], [60, 68, 1042, 151, 613], [112, 105, 1153, 687, 1029], [84, 76, 1003, 459, 894], [72, 64, 1120, 172, 740], [71, 69, 729, 240, 803], [86, 72, 992, 347, 886], [83, 83, 1521, 373, 994]]\n"
          ]
        }
      ]
    },
    {
      "cell_type": "code",
      "metadata": {
        "colab": {
          "base_uri": "https://localhost:8080/",
          "height": 281
        },
        "id": "QjgmpWkfIOy4",
        "outputId": "ee78ec41-1cb4-47fd-e58c-7fbc9f53e795"
      },
      "source": [
        "path_lengths_BFM=[]\n",
        "path_lengths_BFE=[]\n",
        "path_lengths_BFS=[]\n",
        "path_lengths_AM=[]\n",
        "path_lengths_AE=[]\n",
        "for i in range(41):\n",
        "  sum=(path_lengths[i][0]+path_lengths1[i][0]+path_lengths2[i][0]+path_lengths3[i][0]+path_lengths4[i][0])/5\n",
        "  sum1=(path_lengths[i][1]+path_lengths1[i][1]+path_lengths2[i][1]+path_lengths3[i][1]+path_lengths4[i][1])/5\n",
        "  sum2=(path_lengths[i][2]+path_lengths1[i][2]+path_lengths2[i][2]+path_lengths3[i][2]+path_lengths4[i][2])/5\n",
        "  sum3=(path_lengths[i][3]+path_lengths1[i][3]+path_lengths2[i][3]+path_lengths3[i][3]+path_lengths4[i][3])/5\n",
        "  sum4=(path_lengths[i][4]+path_lengths1[i][4]+path_lengths2[i][4]+path_lengths3[i][4]+path_lengths4[i][4])/5\n",
        "  path_lengths_BFM.append(sum)\n",
        "  path_lengths_BFE.append(sum1)\n",
        "  path_lengths_BFS.append(sum2)\n",
        "  path_lengths_AM.append(sum3)\n",
        "  path_lengths_AE.append(sum4)\n",
        "\n",
        "map_sizes=[i for i in range(10,51)]\n",
        "\n",
        "expand_lengths_BFM=[]\n",
        "expand_lengths_BFE=[]\n",
        "expand_lengths_BFS=[]\n",
        "expand_lengths_AM=[]\n",
        "expand_lengths_AE=[]\n",
        "\n",
        "for i in range(41):\n",
        "  sum=(expand_lengths[i][0]+expand_lengths1[i][0]+expand_lengths2[i][0]+expand_lengths3[i][0]+expand_lengths4[i][0])/5\n",
        "  sum1=(expand_lengths[i][1]+expand_lengths1[i][1]+expand_lengths2[i][1]+expand_lengths3[i][1]+expand_lengths4[i][1])/5\n",
        "  sum2=(expand_lengths[i][2]+expand_lengths1[i][2]+expand_lengths2[i][2]+expand_lengths3[i][2]+expand_lengths4[i][2])/5\n",
        "  sum3=(expand_lengths[i][3]+expand_lengths1[i][3]+expand_lengths2[i][3]+expand_lengths3[i][3]+expand_lengths4[i][3])/5\n",
        "  sum4=(expand_lengths[i][4]+expand_lengths1[i][4]+expand_lengths2[i][4]+expand_lengths3[i][4]+expand_lengths4[i][4])/5\n",
        "  expand_lengths_BFM.append(sum)\n",
        "  expand_lengths_BFE.append(sum1)\n",
        "  expand_lengths_BFS.append(sum2)\n",
        "  expand_lengths_AM.append(sum3)\n",
        "  expand_lengths_AE.append(sum4)\n",
        "\n",
        "\n",
        "plt.plot(map_sizes, path_lengths_BFM)\n",
        "plt.plot(map_sizes, path_lengths_BFE)\n",
        "plt.plot(map_sizes, path_lengths_BFS)\n",
        "plt.plot(map_sizes, path_lengths_AM)\n",
        "plt.plot(map_sizes, path_lengths_AE)\n",
        "plt.legend(['Best First manhattan', 'Best First euclidean','BFS','A* manhattan','A* euclidean'])\n",
        "plt.title('Path length vs map size for all algorithms')\n",
        "plt.show()"
      ],
      "execution_count": 16,
      "outputs": [
        {
          "output_type": "display_data",
          "data": {
            "image/png": "[encoded data removed]",
            "text/plain": [
              "<Figure size 432x288 with 1 Axes>"
            ]
          },
          "metadata": {
            "needs_background": "light"
          }
        }
      ]
    },
    {
      "cell_type": "code",
      "metadata": {
        "colab": {
          "base_uri": "https://localhost:8080/",
          "height": 281
        },
        "id": "KGaUw9iOK8RV",
        "outputId": "c9b3ce80-0840-455f-cefa-f0b7c14de38e"
      },
      "source": [
        "plt.plot(map_sizes, expand_lengths_BFM)\n",
        "plt.plot(map_sizes, expand_lengths_BFE)\n",
        "plt.plot(map_sizes, expand_lengths_BFS)\n",
        "plt.plot(map_sizes, expand_lengths_AM)\n",
        "plt.plot(map_sizes, expand_lengths_AE)\n",
        "plt.legend(['Best First manhattan', 'Best First euclidean','BFS','A* manhattan','A* euclidean'])\n",
        "plt.title('Expand_nodes vs map size for all algorithms')\n",
        "plt.show()"
      ],
      "execution_count": 17,
      "outputs": [
        {
          "output_type": "display_data",
          "data": {
            "image/png": "[encoded data removed]",
            "text/plain": [
              "<Figure size 432x288 with 1 Axes>"
            ]
          },
          "metadata": {
            "needs_background": "light"
          }
        }
      ]
    },
    {
      "cell_type": "markdown",
      "metadata": {
        "id": "r3vOsr3iPaR-"
      },
      "source": [
        "Απο τις γραφικές παραστάσεις παρατηρούμε τα εξής:\n",
        "\n",
        "1)Απο την 1η γραφική παρατηρούμε ότι για όλους τους αλγορίθμους το μήκος μονοπατιού αυξάνεται γραμμικά με την αύξηση του μεγέθους του λαβυρίνθου. Ο BFS δημιουργεί το μεγαλύτερο μήκος μονοπατιού σε σχέση με τους άλλους αλγορίθμους και έχει και μεγαλύτερες διακυμάνσεις.\n",
        "\n",
        "2)Απο τη 2η γραφική παρατηρούμε οτι ο Best First έχει το μικρότερο  αριθμό επεκτεταμένων κόμβων (σχεδόν ίδιο και για τις δύο εκδοχές του). Επίσης ο BFS και ο Α* με ευκλείδεια παρουσιάζουν εκθετική αύξηση επεκτεταμένων κόμβν σε σχ΄εση με το μέγεθος του λαβυρίνθου ενώ οι άλλοι αλγόριθμοι έχουν γράμμικη αύξηση. \n"
      ]
    },
    {
      "cell_type": "markdown",
      "metadata": {
        "id": "u3Ar_h-6EbZ6"
      },
      "source": [
        "\n",
        "## Μέρος 4\n",
        "\n",
        "Σας δίνεται η συνάρτηση ```draw(filename='filename.png')``` η οποία παράγει ένα interactive grid ώστε να σχηματίσετε το λαβύρινθο. Θεωρήστε ως μαύρο το χρώμα του εμποδίου, πράσινο την αφετηρία και κόκκινο το στόχο, και πατήστε finish για να ολοκληρωθεί η εκτέλεση του τρέχοντος κελιού. Σε περίπτωση που θέλετε να παράξετε νέο λαβύρινθο, απλά ξανατρέξτε το κελί, επιλέξτε τα τετράγωνα και πατήστε finish. Κάθε εκτέλεση αποθηκεύει την εικόνα σε μορφή png σε όνομα που μπορείτε να καθορίσετε μέσω του filename (τοποθετώντας και την κατάληξη .png) κατά την κλήση της συνάρτησης.  \n",
        "\n",
        "Μπορείτε να το δοκιμάσετε τρέχοντας το επόμενο κελί κώδικα.\n"
      ]
    },
    {
      "cell_type": "code",
      "metadata": {
        "colab": {
          "base_uri": "https://localhost:8080/",
          "height": 397
        },
        "id": "k58iY7EPSa_m",
        "outputId": "f570c8e0-af18-4a88-e6f1-9c52951ba8ca"
      },
      "source": [
        "from IPython.display import HTML, Image\n",
        "from google.colab.output import eval_js\n",
        "from base64 import b64decode\n",
        "import PIL\n",
        "\n",
        "\n",
        "canvas_html = \"\"\"\n",
        "<canvas width=301 height=301></canvas>\n",
        "<br>\n",
        "\n",
        "<button id = \"start\" style=\"background-color: #008000\">Start</button>\n",
        "<button id = \"end\" style=\"background-color: #800000\">End</button>\n",
        "<button id = \"finish\">Finish</button>\n",
        "<script>\n",
        "\n",
        "var canvas = document.querySelector('canvas')\n",
        "var ctx = canvas.getContext('2d')\n",
        "\n",
        "for (var x = 0.5; x < 301; x += 20) {\n",
        "  ctx.moveTo(x, 0);\n",
        "  ctx.lineTo(x, 300);\n",
        "}\n",
        "\n",
        "for (var y = 0.5; y < 301; y += 20) {\n",
        "  ctx.moveTo(0, y);\n",
        "  ctx.lineTo(300, y);\n",
        "}\n",
        "\n",
        "ctx.strokeStyle = \"#000\";\n",
        "ctx.stroke();\n",
        "\n",
        "var button = document.getElementById('finish')\n",
        "var start_button = document.getElementById('start')\n",
        "var end_button = document.getElementById('end')\n",
        "\n",
        "\n",
        "start_button.onclick = ()=>{\n",
        "    ctx.fillStyle=\"#008000\";\n",
        "  }\n",
        "\n",
        "end_button.onclick = ()=>{\n",
        "    ctx.fillStyle=\"#800000\";\n",
        "  }\n",
        "   \n",
        "\n",
        "var mouse = {x: 0, y: 0}\n",
        "canvas.addEventListener('mousemove', function(e) {\n",
        "  mouse.x = e.pageX - this.offsetLeft\n",
        "  mouse.y = e.pageY - this.offsetTop\n",
        "})\n",
        "\n",
        "function getMousePos(canvas, evt) {\n",
        "        var rect = canvas.getBoundingClientRect();\n",
        "        return {\n",
        "          x: evt.x - rect.left,\n",
        "          y: evt.y - rect.top\n",
        "        };\n",
        "      }\n",
        "\n",
        "function getNearestSquare(position) {\n",
        "    var x = position.x;\n",
        "    var y = position.y;\n",
        "\n",
        "    if (x < 0 || y < 0) return null;\n",
        "    x = (Math.floor(x / 20) * 20) + 0.5\n",
        "    y = (Math.floor(y / 20) * 20) + 0.5\n",
        "    return {x: x, y: y};\n",
        "}\n",
        "\n",
        "function containsObject(obj, list) {\n",
        "    var i;\n",
        "    for (i = 0; i < list.length; i++) {\n",
        "        if (list[i].x === obj.x && list[i].y == obj.y) {\n",
        "            return i;\n",
        "        }\n",
        "    }\n",
        "    return -1;\n",
        "}\n",
        "\n",
        "borders = []\n",
        "\n",
        "canvas.onmousedown = ()=>{\n",
        "    var pos = getNearestSquare(getMousePos(canvas, mouse));\n",
        "    if (pos != null) {\n",
        "        index = containsObject(pos, borders)\n",
        "        if (index != -1){\n",
        "            borders.splice(index, 1)\n",
        "            ctx.clearRect(pos.x + 1, pos.y, 19, 19)\n",
        "        }\n",
        "        else{\n",
        "            ctx.fillRect(pos.x+1,pos.y+1,18,18);\n",
        "            borders.push(pos)\n",
        "        }\n",
        "        ctx.fillStyle=\"#000000\";\n",
        "    }\n",
        "}\n",
        "var data = new Promise(resolve=>{\n",
        "  button.onclick = ()=>{\n",
        "    resolve(canvas.toDataURL('image/png'))\n",
        "  }\n",
        "})\n",
        "</script>\n",
        "\"\"\"\n",
        "\n",
        "def draw(filename='drawing.png'):\n",
        "  display(HTML(canvas_html))\n",
        "  data = eval_js(\"data\")\n",
        "  print (data)\n",
        "  binary = b64decode(data.split(',')[1])\n",
        "  with open(filename, 'wb') as f:\n",
        "    f.write(binary)\n",
        "  return len(binary)\n",
        "\n",
        "\n",
        "draw()"
      ],
      "execution_count": 19,
      "outputs": [
        {
          "output_type": "display_data",
          "data": {
            "text/html": [
              "\n",
              "<canvas width=301 height=301></canvas>\n",
              "<br>\n",
              "\n",
              "<button id = \"start\" style=\"background-color: #008000\">Start</button>\n",
              "<button id = \"end\" style=\"background-color: #800000\">End</button>\n",
              "<button id = \"finish\">Finish</button>\n",
              "<script>\n",
              "\n",
              "var canvas = document.querySelector('canvas')\n",
              "var ctx = canvas.getContext('2d')\n",
              "\n",
              "for (var x = 0.5; x < 301; x += 20) {\n",
              "  ctx.moveTo(x, 0);\n",
              "  ctx.lineTo(x, 300);\n",
              "}\n",
              "\n",
              "for (var y = 0.5; y < 301; y += 20) {\n",
              "  ctx.moveTo(0, y);\n",
              "  ctx.lineTo(300, y);\n",
              "}\n",
              "\n",
              "ctx.strokeStyle = \"#000\";\n",
              "ctx.stroke();\n",
              "\n",
              "var button = document.getElementById('finish')\n",
              "var start_button = document.getElementById('start')\n",
              "var end_button = document.getElementById('end')\n",
              "\n",
              "\n",
              "start_button.onclick = ()=>{\n",
              "    ctx.fillStyle=\"#008000\";\n",
              "  }\n",
              "\n",
              "end_button.onclick = ()=>{\n",
              "    ctx.fillStyle=\"#800000\";\n",
              "  }\n",
              "   \n",
              "\n",
              "var mouse = {x: 0, y: 0}\n",
              "canvas.addEventListener('mousemove', function(e) {\n",
              "  mouse.x = e.pageX - this.offsetLeft\n",
              "  mouse.y = e.pageY - this.offsetTop\n",
              "})\n",
              "\n",
              "function getMousePos(canvas, evt) {\n",
              "        var rect = canvas.getBoundingClientRect();\n",
              "        return {\n",
              "          x: evt.x - rect.left,\n",
              "          y: evt.y - rect.top\n",
              "        };\n",
              "      }\n",
              "\n",
              "function getNearestSquare(position) {\n",
              "    var x = position.x;\n",
              "    var y = position.y;\n",
              "\n",
              "    if (x < 0 || y < 0) return null;\n",
              "    x = (Math.floor(x / 20) * 20) + 0.5\n",
              "    y = (Math.floor(y / 20) * 20) + 0.5\n",
              "    return {x: x, y: y};\n",
              "}\n",
              "\n",
              "function containsObject(obj, list) {\n",
              "    var i;\n",
              "    for (i = 0; i < list.length; i++) {\n",
              "        if (list[i].x === obj.x && list[i].y == obj.y) {\n",
              "            return i;\n",
              "        }\n",
              "    }\n",
              "    return -1;\n",
              "}\n",
              "\n",
              "borders = []\n",
              "\n",
              "canvas.onmousedown = ()=>{\n",
              "    var pos = getNearestSquare(getMousePos(canvas, mouse));\n",
              "    if (pos != null) {\n",
              "        index = containsObject(pos, borders)\n",
              "        if (index != -1){\n",
              "            borders.splice(index, 1)\n",
              "            ctx.clearRect(pos.x + 1, pos.y, 19, 19)\n",
              "        }\n",
              "        else{\n",
              "            ctx.fillRect(pos.x+1,pos.y+1,18,18);\n",
              "            borders.push(pos)\n",
              "        }\n",
              "        ctx.fillStyle=\"#000000\";\n",
              "    }\n",
              "}\n",
              "var data = new Promise(resolve=>{\n",
              "  button.onclick = ()=>{\n",
              "    resolve(canvas.toDataURL('image/png'))\n",
              "  }\n",
              "})\n",
              "</script>\n"
            ],
            "text/plain": [
              "<IPython.core.display.HTML object>"
            ]
          },
          "metadata": {}
        },
        {
          "output_type": "stream",
          "name": "stdout",
          "text": [
            "data:image/png;base64,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\n"
          ]
        },
        {
          "output_type": "execute_result",
          "data": {
            "text/plain": [
              "5598"
            ]
          },
          "metadata": {},
          "execution_count": 19
        }
      ]
    },
    {
      "cell_type": "markdown",
      "metadata": {
        "id": "ebGzYlpEs8kT"
      },
      "source": [
        "Φτιάξαμε ένα δοκιμαστικό λαβύρινθο ώστε να δουμε τη λειτουργία της συνάρτησης"
      ]
    },
    {
      "cell_type": "code",
      "metadata": {
        "colab": {
          "base_uri": "https://localhost:8080/",
          "height": 286
        },
        "id": "By87xgVT3nQm",
        "outputId": "15426cec-756f-4e0d-e246-e95decc5e168"
      },
      "source": [
        "import matplotlib.pyplot as plt\n",
        "import matplotlib.image as img \n",
        "im=img.imread('drawing.png')\n",
        "plt.imshow(im)"
      ],
      "execution_count": 22,
      "outputs": [
        {
          "output_type": "execute_result",
          "data": {
            "text/plain": [
              "<matplotlib.image.AxesImage at 0x7f631a321250>"
            ]
          },
          "metadata": {},
          "execution_count": 22
        },
        {
          "output_type": "display_data",
          "data": {
            "image/png": "[encoded data removed]",
            "text/plain": [
              "<Figure size 432x288 with 1 Axes>"
            ]
          },
          "metadata": {
            "needs_background": "light"
          }
        }
      ]
    },
    {
      "cell_type": "markdown",
      "metadata": {
        "id": "aeYumpL5FrUF"
      },
      "source": [
        "Οι συναρτήσεις στο παρακάτω κελί κώδικα είναι βοηθητικές. Μετατρέπουν την εικόνα που αποθηκεύεται από την ```draw``` του προηγούμενου κελιου ξανά σε αντικείμενο τύπου Maze για να μπορέσετε να τρέξετε τους αλγορίθμους που έχετε υλοποιήσει καθώς και τον κώδικα visualization που σας δίνεται."
      ]
    },
    {
      "cell_type": "code",
      "metadata": {
        "id": "D8fS2Z9Xg4fS"
      },
      "source": [
        "def find_points(image_array, pixels):\n",
        "    points = []\n",
        "    for grid_i, i in enumerate(range (10, image_array.shape[0]-10, 20)):\n",
        "        for grid_j, j in enumerate(range (10, image_array.shape[1]-10, 20)):\n",
        "            if np.array_equal(image_array[i][j], pixels):\n",
        "                points.append([grid_i+1, grid_j+1])\n",
        "    return points\n",
        "\n",
        "def load_maze(fname='/content/drawing.png'):\n",
        "    N = 17\n",
        "    image = PIL.Image.open(fname)\n",
        "    image_array = np.round(np.array(image)/255)\n",
        "\n",
        "    start_x, start_y = find_points(image_array, [0,1,0,1])[0]\n",
        "    end_x, end_y = find_points(image_array, [1, 0, 0, 1])[0]\n",
        "    walls = find_points(image_array, [0, 0, 0, 1])\n",
        "    new_grid = Maze(N, (start_x, start_y), (end_x, end_y))\n",
        "\n",
        "    for i in range(N):\n",
        "        for j in range(N):\n",
        "            if [i, j] in walls:\n",
        "                new_grid.grid[i,j] = 1\n",
        "            else:\n",
        "                new_grid.grid[i, j] = 0\n",
        "\n",
        "    g = new_grid\n",
        "    g.draw_map()\n",
        "    return g\n"
      ],
      "execution_count": 21,
      "outputs": []
    },
    {
      "cell_type": "markdown",
      "metadata": {
        "id": "8o3F5sGT1YNm"
      },
      "source": [
        "\n",
        "Υπενθυμίζεται ότι το output των κελιών που σχηματίζετε διατηρείται για περιορισμένο χρονικό διάστημα στο notebook, γι αυτό καλείστε να αποθηκεύσετε τη φωτογραφία (το πραγματοποιεί η συνάρτηση draw()) και να τη μεταφέρετε στο ανάλογο markdown."
      ]
    },
    {
      "cell_type": "markdown",
      "metadata": {
        "id": "tprNeqaPIdlW"
      },
      "source": [
        "### 4.1.  "
      ]
    },
    {
      "cell_type": "code",
      "metadata": {
        "id": "vF3u1cCeIo9H",
        "colab": {
          "base_uri": "https://localhost:8080/",
          "height": 397
        },
        "outputId": "1a571e3d-8c60-4285-db45-09d1ea36273c"
      },
      "source": [
        "draw(filename='4.1.png')\n"
      ],
      "execution_count": 24,
      "outputs": [
        {
          "output_type": "display_data",
          "data": {
            "text/html": [
              "\n",
              "<canvas width=301 height=301></canvas>\n",
              "<br>\n",
              "\n",
              "<button id = \"start\" style=\"background-color: #008000\">Start</button>\n",
              "<button id = \"end\" style=\"background-color: #800000\">End</button>\n",
              "<button id = \"finish\">Finish</button>\n",
              "<script>\n",
              "\n",
              "var canvas = document.querySelector('canvas')\n",
              "var ctx = canvas.getContext('2d')\n",
              "\n",
              "for (var x = 0.5; x < 301; x += 20) {\n",
              "  ctx.moveTo(x, 0);\n",
              "  ctx.lineTo(x, 300);\n",
              "}\n",
              "\n",
              "for (var y = 0.5; y < 301; y += 20) {\n",
              "  ctx.moveTo(0, y);\n",
              "  ctx.lineTo(300, y);\n",
              "}\n",
              "\n",
              "ctx.strokeStyle = \"#000\";\n",
              "ctx.stroke();\n",
              "\n",
              "var button = document.getElementById('finish')\n",
              "var start_button = document.getElementById('start')\n",
              "var end_button = document.getElementById('end')\n",
              "\n",
              "\n",
              "start_button.onclick = ()=>{\n",
              "    ctx.fillStyle=\"#008000\";\n",
              "  }\n",
              "\n",
              "end_button.onclick = ()=>{\n",
              "    ctx.fillStyle=\"#800000\";\n",
              "  }\n",
              "   \n",
              "\n",
              "var mouse = {x: 0, y: 0}\n",
              "canvas.addEventListener('mousemove', function(e) {\n",
              "  mouse.x = e.pageX - this.offsetLeft\n",
              "  mouse.y = e.pageY - this.offsetTop\n",
              "})\n",
              "\n",
              "function getMousePos(canvas, evt) {\n",
              "        var rect = canvas.getBoundingClientRect();\n",
              "        return {\n",
              "          x: evt.x - rect.left,\n",
              "          y: evt.y - rect.top\n",
              "        };\n",
              "      }\n",
              "\n",
              "function getNearestSquare(position) {\n",
              "    var x = position.x;\n",
              "    var y = position.y;\n",
              "\n",
              "    if (x < 0 || y < 0) return null;\n",
              "    x = (Math.floor(x / 20) * 20) + 0.5\n",
              "    y = (Math.floor(y / 20) * 20) + 0.5\n",
              "    return {x: x, y: y};\n",
              "}\n",
              "\n",
              "function containsObject(obj, list) {\n",
              "    var i;\n",
              "    for (i = 0; i < list.length; i++) {\n",
              "        if (list[i].x === obj.x && list[i].y == obj.y) {\n",
              "            return i;\n",
              "        }\n",
              "    }\n",
              "    return -1;\n",
              "}\n",
              "\n",
              "borders = []\n",
              "\n",
              "canvas.onmousedown = ()=>{\n",
              "    var pos = getNearestSquare(getMousePos(canvas, mouse));\n",
              "    if (pos != null) {\n",
              "        index = containsObject(pos, borders)\n",
              "        if (index != -1){\n",
              "            borders.splice(index, 1)\n",
              "            ctx.clearRect(pos.x + 1, pos.y, 19, 19)\n",
              "        }\n",
              "        else{\n",
              "            ctx.fillRect(pos.x+1,pos.y+1,18,18);\n",
              "            borders.push(pos)\n",
              "        }\n",
              "        ctx.fillStyle=\"#000000\";\n",
              "    }\n",
              "}\n",
              "var data = new Promise(resolve=>{\n",
              "  button.onclick = ()=>{\n",
              "    resolve(canvas.toDataURL('image/png'))\n",
              "  }\n",
              "})\n",
              "</script>\n"
            ],
            "text/plain": [
              "<IPython.core.display.HTML object>"
            ]
          },
          "metadata": {}
        },
        {
          "output_type": "stream",
          "name": "stdout",
          "text": [
            "data:image/png;base64,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\n"
          ]
        },
        {
          "output_type": "execute_result",
          "data": {
            "text/plain": [
              "4600"
            ]
          },
          "metadata": {},
          "execution_count": 24
        }
      ]
    },
    {
      "cell_type": "code",
      "metadata": {
        "colab": {
          "base_uri": "https://localhost:8080/",
          "height": 286
        },
        "id": "u0ZtSsj16hy9",
        "outputId": "b9b9bf95-2aa6-4142-b8a7-addb724a1293"
      },
      "source": [
        "import matplotlib.pyplot as plt\n",
        "import matplotlib.image as img \n",
        "im=img.imread('4.1.png')\n",
        "plt.imshow(im)"
      ],
      "execution_count": 25,
      "outputs": [
        {
          "output_type": "execute_result",
          "data": {
            "text/plain": [
              "<matplotlib.image.AxesImage at 0x7f631a9ef090>"
            ]
          },
          "metadata": {},
          "execution_count": 25
        },
        {
          "output_type": "display_data",
          "data": {
            "image/png": "[encoded data removed]",
            "text/plain": [
              "<Figure size 432x288 with 1 Axes>"
            ]
          },
          "metadata": {
            "needs_background": "light"
          }
        }
      ]
    },
    {
      "cell_type": "markdown",
      "metadata": {
        "id": "U3btJtCg6xfC"
      },
      "source": [
        "Επειδή για να μπορέσει ο αλγόριθμος να φτάσει στο στόχο θα πρέπει να πάει σε σημεία τα οποία θα έχουν μεγαλύτερη τιμή ευριστικής απο ότι αρχικά ο αλγόριθμος θα αποτύχει και άρα θα τερματίσει."
      ]
    },
    {
      "cell_type": "markdown",
      "metadata": {
        "id": "CxyUgnTaIhHa"
      },
      "source": [
        "### 4.2.  "
      ]
    },
    {
      "cell_type": "code",
      "metadata": {
        "colab": {
          "base_uri": "https://localhost:8080/",
          "height": 397
        },
        "id": "ZT1RxaUJJBok",
        "outputId": "80a0b401-835c-4298-80c8-6f2c40a7d0ca"
      },
      "source": [
        "draw(filename='4.2.png')"
      ],
      "execution_count": 26,
      "outputs": [
        {
          "output_type": "display_data",
          "data": {
            "text/html": [
              "\n",
              "<canvas width=301 height=301></canvas>\n",
              "<br>\n",
              "\n",
              "<button id = \"start\" style=\"background-color: #008000\">Start</button>\n",
              "<button id = \"end\" style=\"background-color: #800000\">End</button>\n",
              "<button id = \"finish\">Finish</button>\n",
              "<script>\n",
              "\n",
              "var canvas = document.querySelector('canvas')\n",
              "var ctx = canvas.getContext('2d')\n",
              "\n",
              "for (var x = 0.5; x < 301; x += 20) {\n",
              "  ctx.moveTo(x, 0);\n",
              "  ctx.lineTo(x, 300);\n",
              "}\n",
              "\n",
              "for (var y = 0.5; y < 301; y += 20) {\n",
              "  ctx.moveTo(0, y);\n",
              "  ctx.lineTo(300, y);\n",
              "}\n",
              "\n",
              "ctx.strokeStyle = \"#000\";\n",
              "ctx.stroke();\n",
              "\n",
              "var button = document.getElementById('finish')\n",
              "var start_button = document.getElementById('start')\n",
              "var end_button = document.getElementById('end')\n",
              "\n",
              "\n",
              "start_button.onclick = ()=>{\n",
              "    ctx.fillStyle=\"#008000\";\n",
              "  }\n",
              "\n",
              "end_button.onclick = ()=>{\n",
              "    ctx.fillStyle=\"#800000\";\n",
              "  }\n",
              "   \n",
              "\n",
              "var mouse = {x: 0, y: 0}\n",
              "canvas.addEventListener('mousemove', function(e) {\n",
              "  mouse.x = e.pageX - this.offsetLeft\n",
              "  mouse.y = e.pageY - this.offsetTop\n",
              "})\n",
              "\n",
              "function getMousePos(canvas, evt) {\n",
              "        var rect = canvas.getBoundingClientRect();\n",
              "        return {\n",
              "          x: evt.x - rect.left,\n",
              "          y: evt.y - rect.top\n",
              "        };\n",
              "      }\n",
              "\n",
              "function getNearestSquare(position) {\n",
              "    var x = position.x;\n",
              "    var y = position.y;\n",
              "\n",
              "    if (x < 0 || y < 0) return null;\n",
              "    x = (Math.floor(x / 20) * 20) + 0.5\n",
              "    y = (Math.floor(y / 20) * 20) + 0.5\n",
              "    return {x: x, y: y};\n",
              "}\n",
              "\n",
              "function containsObject(obj, list) {\n",
              "    var i;\n",
              "    for (i = 0; i < list.length; i++) {\n",
              "        if (list[i].x === obj.x && list[i].y == obj.y) {\n",
              "            return i;\n",
              "        }\n",
              "    }\n",
              "    return -1;\n",
              "}\n",
              "\n",
              "borders = []\n",
              "\n",
              "canvas.onmousedown = ()=>{\n",
              "    var pos = getNearestSquare(getMousePos(canvas, mouse));\n",
              "    if (pos != null) {\n",
              "        index = containsObject(pos, borders)\n",
              "        if (index != -1){\n",
              "            borders.splice(index, 1)\n",
              "            ctx.clearRect(pos.x + 1, pos.y, 19, 19)\n",
              "        }\n",
              "        else{\n",
              "            ctx.fillRect(pos.x+1,pos.y+1,18,18);\n",
              "            borders.push(pos)\n",
              "        }\n",
              "        ctx.fillStyle=\"#000000\";\n",
              "    }\n",
              "}\n",
              "var data = new Promise(resolve=>{\n",
              "  button.onclick = ()=>{\n",
              "    resolve(canvas.toDataURL('image/png'))\n",
              "  }\n",
              "})\n",
              "</script>\n"
            ],
            "text/plain": [
              "<IPython.core.display.HTML object>"
            ]
          },
          "metadata": {}
        },
        {
          "output_type": "stream",
          "name": "stdout",
          "text": [
            "data:image/png;base64,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\n"
          ]
        },
        {
          "output_type": "execute_result",
          "data": {
            "text/plain": [
              "4556"
            ]
          },
          "metadata": {},
          "execution_count": 26
        }
      ]
    },
    {
      "cell_type": "code",
      "metadata": {
        "colab": {
          "base_uri": "https://localhost:8080/",
          "height": 286
        },
        "id": "9MyNGzJb8KDC",
        "outputId": "0a75dd78-6ed5-4a46-e9e0-20360bb93583"
      },
      "source": [
        "import matplotlib.pyplot as plt\n",
        "import matplotlib.image as img \n",
        "im=img.imread('4.2.png')\n",
        "plt.imshow(im)"
      ],
      "execution_count": 27,
      "outputs": [
        {
          "output_type": "execute_result",
          "data": {
            "text/plain": [
              "<matplotlib.image.AxesImage at 0x7f631a3ea690>"
            ]
          },
          "metadata": {},
          "execution_count": 27
        },
        {
          "output_type": "display_data",
          "data": {
            "image/png": "[encoded data removed]",
            "text/plain": [
              "<Figure size 432x288 with 1 Axes>"
            ]
          },
          "metadata": {
            "needs_background": "light"
          }
        }
      ]
    },
    {
      "cell_type": "markdown",
      "metadata": {
        "id": "vG_nHrGDWlkP"
      },
      "source": [
        "Εδώ ο Α* θα αργήσει πολύ να βρει το μονοπάτι προς το στόχο διότι η έλλειψη τοίχων θα τον αναγκάσει να εξερευνήσει περισσότερους γείτονες ενώ πχ αμα υπήρχαν πολλοί τοίχοι σε κάθε βήμα ο Α* αντί για 4 θα εξερευνούσε λιγότερους γείτονες κάθε κόμβου."
      ]
    },
    {
      "cell_type": "markdown",
      "metadata": {
        "id": "rqqmkt3U_9q1"
      },
      "source": [
        "### 4.3."
      ]
    },
    {
      "cell_type": "code",
      "metadata": {
        "id": "UwqILZmBJjJ-",
        "colab": {
          "base_uri": "https://localhost:8080/",
          "height": 397
        },
        "outputId": "67808669-f7af-4f93-d62c-a42a02b16744"
      },
      "source": [
        "draw(filename='4.3.png')"
      ],
      "execution_count": 32,
      "outputs": [
        {
          "output_type": "display_data",
          "data": {
            "text/html": [
              "\n",
              "<canvas width=301 height=301></canvas>\n",
              "<br>\n",
              "\n",
              "<button id = \"start\" style=\"background-color: #008000\">Start</button>\n",
              "<button id = \"end\" style=\"background-color: #800000\">End</button>\n",
              "<button id = \"finish\">Finish</button>\n",
              "<script>\n",
              "\n",
              "var canvas = document.querySelector('canvas')\n",
              "var ctx = canvas.getContext('2d')\n",
              "\n",
              "for (var x = 0.5; x < 301; x += 20) {\n",
              "  ctx.moveTo(x, 0);\n",
              "  ctx.lineTo(x, 300);\n",
              "}\n",
              "\n",
              "for (var y = 0.5; y < 301; y += 20) {\n",
              "  ctx.moveTo(0, y);\n",
              "  ctx.lineTo(300, y);\n",
              "}\n",
              "\n",
              "ctx.strokeStyle = \"#000\";\n",
              "ctx.stroke();\n",
              "\n",
              "var button = document.getElementById('finish')\n",
              "var start_button = document.getElementById('start')\n",
              "var end_button = document.getElementById('end')\n",
              "\n",
              "\n",
              "start_button.onclick = ()=>{\n",
              "    ctx.fillStyle=\"#008000\";\n",
              "  }\n",
              "\n",
              "end_button.onclick = ()=>{\n",
              "    ctx.fillStyle=\"#800000\";\n",
              "  }\n",
              "   \n",
              "\n",
              "var mouse = {x: 0, y: 0}\n",
              "canvas.addEventListener('mousemove', function(e) {\n",
              "  mouse.x = e.pageX - this.offsetLeft\n",
              "  mouse.y = e.pageY - this.offsetTop\n",
              "})\n",
              "\n",
              "function getMousePos(canvas, evt) {\n",
              "        var rect = canvas.getBoundingClientRect();\n",
              "        return {\n",
              "          x: evt.x - rect.left,\n",
              "          y: evt.y - rect.top\n",
              "        };\n",
              "      }\n",
              "\n",
              "function getNearestSquare(position) {\n",
              "    var x = position.x;\n",
              "    var y = position.y;\n",
              "\n",
              "    if (x < 0 || y < 0) return null;\n",
              "    x = (Math.floor(x / 20) * 20) + 0.5\n",
              "    y = (Math.floor(y / 20) * 20) + 0.5\n",
              "    return {x: x, y: y};\n",
              "}\n",
              "\n",
              "function containsObject(obj, list) {\n",
              "    var i;\n",
              "    for (i = 0; i < list.length; i++) {\n",
              "        if (list[i].x === obj.x && list[i].y == obj.y) {\n",
              "            return i;\n",
              "        }\n",
              "    }\n",
              "    return -1;\n",
              "}\n",
              "\n",
              "borders = []\n",
              "\n",
              "canvas.onmousedown = ()=>{\n",
              "    var pos = getNearestSquare(getMousePos(canvas, mouse));\n",
              "    if (pos != null) {\n",
              "        index = containsObject(pos, borders)\n",
              "        if (index != -1){\n",
              "            borders.splice(index, 1)\n",
              "            ctx.clearRect(pos.x + 1, pos.y, 19, 19)\n",
              "        }\n",
              "        else{\n",
              "            ctx.fillRect(pos.x+1,pos.y+1,18,18);\n",
              "            borders.push(pos)\n",
              "        }\n",
              "        ctx.fillStyle=\"#000000\";\n",
              "    }\n",
              "}\n",
              "var data = new Promise(resolve=>{\n",
              "  button.onclick = ()=>{\n",
              "    resolve(canvas.toDataURL('image/png'))\n",
              "  }\n",
              "})\n",
              "</script>\n"
            ],
            "text/plain": [
              "<IPython.core.display.HTML object>"
            ]
          },
          "metadata": {}
        },
        {
          "output_type": "stream",
          "name": "stdout",
          "text": [
            "data:image/png;base64,iVBORw0KGgoAAAANSUhEUgAAAS0AAAEtCAYAAABd4zbuAAAAAXNSR0IArs4c6QAAEpVJREFUeF7t3VF7G7mxhGE6f3zjPx6fh2ZkLyMxUaF6tNiDVze+8IAmv6ouNJqj8bfb7fbj5gcBBBD4mxD49u/Quv859XMPQa+3ThO/dXb3lfj9P+cntDqBFQl+KQGhmhJ7vv6H0OoACi38UgJCKyUmtBwfOs/gh19EYDykdVoR/w8vHhfFTLAShR4Vvv03JaHVCex4iF9KQKimxBwP999JdFqVq4VChW//+tBpdQLrtPBLCQjVlJhOa/+dRKdVuVooVPj2rw+dViewTgu/lIBQTYnptPbfSXRalauFQoVv//rQaXUC67TwSwkI1ZSYTmv/nUSnVblaKFT49q8PnVYnsE4Lv5SAUE2J6bT230l0WpWrhUKFb//60Gl1Auu08EsJCNWUmE5r/51Ep1W5WihU+PavD51WJ7BOC7+UgFBNiem09t9JdFqVq4VChW//+njrtLqPaTUCCCDwRQQcD3vQV+zs3z/xrPPP/rt/6NwqkT/L+bP/iNf7LKmPr/O45Y7fz9VXmPAeWvewaX/eXsd/NLJO8gp96VHoodNah/e28gpTC611Xa7QQ8hspIfQWhdDaPXsrupUhcy6NtuHvtBaF1do9eyEVs9w+5CZnqkKrT1N43i4rstxRTwdCru/ntBaLw6dVs9Op9UzPC6khdaeptFpretyXBHv3hlNvz+htV4cOq2enU6rZ3hcSAutPU2j01rX5bginu5kdn89obVeHDqtnp1Oq2d4XEgLrT1No9Na1+W4It69M5p+f0JrvTh0Wj07nVbP8LiQFlp7mkanta7LcUU83cns/npCa704dFo9O51Wz/C4kBZae5pGp7Wuy3FFvHtnNP3+hNZ6cei0enY6rZ7hcSEttPY0jU5rXZfjini6k9n99YTWenFc2Wn9809v688a3Qvy7eezj1/x5NJOYyG4GT/PiO8EsRoBBL6YgE6rB37FTuwZ8eu6XKHHZ7vaz7xr7+8zlF5f4xnxHb+fq68woZnWujBX6CG0NtJDp7UuxpUzLaG1rovQWmd31SY8GvpCqxP4KpGF1rouQmud3VV+FlqdJpcc50ZFud1uQmtdZKG1zk5odex+rT7RhEJr3Twn+mV609z69RwP14vDTKtn97fY2Xe/2fK09ye0+sK7YmfXaa3rcoUeW3ceQmvdLFd2HqeZRmit+1BorbP7W3S+Oq1O4KtEFlrrugitdXZX+Xm06RBancBXiSy01nURWuvsrvKz0Oo0ccvDAfxGi+S0mdHun1enVVawX+OpAeqMOoTH8RNanWGuaqcdD9d1Oa6Id++Mpt+f0Fovjiu/LRVa67oIrXV2V23Co8d1odUJfJXIQmtdF6G1zu4qPwutThOD+AP4jRbJ9PHG61UO9DytCt9j8RU7u05rXZgr9BCCG+nheLguxpUzLc+IX9dFaK2zu2oTHg19z4jvBLYaAQS+mMCZndYft++3f9x+3P51e70D/K+/fxPq++2K/+1m9Bnxf9xu3/9xu/341+315/1ff//7417yeUd3YjOjKkW271TPDa1vP4uv+/lx+367LrT69/fvhwneQ+vbrf+8P263798fryNk1p2zfSjsrq/QWjfffQQvtBp+132RIVTXddk+VIXWurhCq2H3e+32RbJ753Ha+xNaTeHptBp6V377qtNaV2b7TURorYur02rY6bRm6F1zn+DWoS+0GuvotBp6Oq0JekJrhOL27eXtfsuDbw9jsX17GCP7aMH+9bH5t8M6rcaHOq2Gnk5rgp5Oa4Ti/juJTmtJaJ3WErb/XLR/fei0aqHnRRZaS6IIrSVsQms4BB0PGx86Hjb0HA8n6DkejlCc74yGk9ogfk1nndYat/9YtX99TNfb8OvptBof6rQaejqtCXo6rRGK++8kZlpLQuu0lrCZaem0auP8cDxcYyi01rg5Hs4+FcTxsPGh42FDz/Fwgp7j4QhFx8MO453f6DPiPU+rEmR/Pw8fv3Z/asSZndb32+9nsN+fXvr2lNL7n28//+2ppn+ugWseAjj6jPjvt9+f9/700renlN7//P1xP9fCewhgFYD3xUKwQ/jrf+PpXsZqBBBA4IsInNlp7d9Ojz4jfvd23/urqv24zk1oVX75ufgK04zOtIRCJfIV+m79vKrd/SK0Kj8LrR7fJaEvFNaF2T6khda6uFd+Za/TWtdl+6LbvZPZ/f0JrfXiEFo9u6uO1zqtdW22D32htS6u0OrZCa2e4fYhM925Ca09TeN4uK7LcUU8HQq7v57QWi8OnVbPTqfVMzwupIXWnqbRaa3rclwR794ZTb8/obVeHDqtnp1Oq2d4XEgLrT1No9Na1+W4Ip7uZHZ/PaG1Xhw6rZ6dTqtneFxIC609TaPTWtfluCLevTOafn9Ca704dFo9O51Wz/C4kBZae5pGp7Wuy3FFPN3J7P56Qmu9OHRaPTudVs/wuJAWWnuaRqe1rstxRbx7ZzT9/oTWenHotHp2Oq2e4XEhLbT2NM3oM+KndzqvV5nmuJCZ9stbaFUqWIwAAgh8FQGdVk/aztkxxA+/hMCv/43HQ9MSbM/XKrp1dmZaHbsj+em0mCYlIKRTYja50aZIaHUGPHKnmx6ser3KhMdtIkKr8svPxceZRshUpuGXCt/NTKvjJ7TwiwkIrRjZ0wKh1fETWvjFBIRWjExoMU1pGsfDCiD/VfgcDzt8j9VM2FHED7+EgONhQuvFtYqug4gffgkBoZXQElo6S36JCYxvSm55iDV4t2BcFDOjShR6VPj2H3cIrU5gMy38UgJCNSX2fL3jYcfPcQm/mIDQipE9LRBaHT+hhV9MQGjFyIQW05SmMXOrAPJfhc99Wh2+x2om7Cjih19CwPEwofXiWkXXQcQPv4SA0EpoCS2dJb/EBMY3Jc+IjzWwAAEE/koC7tPq6Y/vJAbdlSj0qPDtP6MVWp3ABvH4pQSEakrs+XozrY6fGQ9+MQGhFSN7WiC0On5CC7+YgNCKkQktpilNY+ZWAeS/Cp+bSzt8j9VM2FHED7+EgONhQuvFtYqug4gffgkBoZXQElo6S36JCYxvSm55iDV4t2BcFDOjShR6VPj2H3cIrU5gMy38UgJCNSX2fL3jYcfPcQm/mIDQipE9LRBaHT+hhV9MQGjFyIQW05SmMXOrAPJfhc99Wh2+x2om7Cjih19CwPEwofXiWkXXQcQPv4SA0EpoCS2dJb/EBMY3Jbc8xBq8WzAuiplRJQo9Knz7jzuEViewmRZ+KQGhmhJ7vt7xsOPnuIRfTEBoxcieFvwKre5lrEYAAQS+iIDjYQ/aztkxxA+/hIDjYULLt4eOw/wSExjflHRasQa+PfTtZmWa8SI+TQ+hVflP59Hj2/8r9tNCYffPK7T6qrNzdgzxwy8hYKaV0DLT0lnyS0xgfFPSacUamGntfnzw/ipTj4fMtB5Cq9JX59HjM9MqGW4fMkKrVNijZGqAxxXJdNF5vcqDZloVvsdiRdxBxA+/hIDQSmgZxAtpfokJjG9KZlqxBgbxjjeVacaL+DQ9hFblP51Hj8/xumR4XAgKrdIxZlo1wOOK7rTOaPrzCq265nQKJUKh1QE8jp/Q6gzj20P8UgLHhYxOK7XI++uZpmOIH34JgXG/6LQS/B9fOy7K9M7k9SqR6Vvhmx+fCK1OEMdD/FICQjAl9ny9Z8R3/KxGAIGvJqDT6onbOTuG+OGXEPBrPAmtF9cqug4ifvglBIRWQkto/SQgZDrT4FfyczzsACpi/FICQisl9mIQfw+vqR+idCTxwy8hcJxfdFqJPT6+9jjTuO+rMg2/VPhuZlodPzMe/GICQitG9rRAaHX8hBZ+MQGhFSMTWkxTmsbxsALIfxU+x8MO32M1E3YU8cMvIeB4mNB6ca2i6yDih19CQGgltISWzpJfYgLjm5JbHmIN3i0YF8XMqBKFHhW+/ccdQqsT2EwLv5SAUE2JPV/veNjxc1zCLyYgtGJkTwuEVsdPaOEXExBaMTKhxTSlaczcKoD8V+Fzn1aH77GaCTuK+OGXEHA8TGi9uFbRdRDxwy8h4BnxCS3XIoDAX0/ALQ+9BjqFjiF++CUEHA8TWo6HZnj8EhMY35R0WrEG7xaMi+LbuUoUelT49v9iSWh1Avv2EL+UgFBNiT1f73jY8XNcwi8mILRiZE8LhFbHT2jhFxMQWjEyocU0pWnM3CqA/Ffhc0d8h++xmgk7ivjhlxBwPExovbhW0XUQ8cMvISC0ElpCS2fJLzGB8U3JLQ+xBu8WjItiZlSJQo8K3/7jDqHVCWymhV9KQKimxJ6vdzzs+Dku4RcTEFoxsqcFQqvjJ7TwiwkIrRiZ0GKa0jRmbhVA/qvwuU+rw/dYzYQdRfzwSwg4Hia0Xlyr6DqI+OGXEBBaCS2hpbPkl5jA+KbklodYg3cLxkUxM6pEoUeFb/9xx1todR/TagQQQOCLCOi0etB29o4hfvglBMy0ElpmWmZa/BITGN+UdFqxBmZaZm6VacaL+DQ9hFblP51Hj2//we9pobD75xVafdXZOTuG+OGXEDDTSmiZaeks+SUmML4p6bRiDcy0dj8+eH+VqcdDZloPoVXpq/Po8ZlplQy3DxmhVSrsF5xrgMcVyXTReb3Kg2ZaFb7HYkXcQcQPv4SA0EpoGcQLaX6JCYxvSmZasQYG8Y43lWnGi/g0PYRW5T+dR4/P8bpkeFwICq3SMWZaNcDjiu60zmj68wqtuuZ0CiVCodUBPI6f0OoM49tD/FICx4WMTiu1yPvrmaZjiB9+CYFxv+i0EvwfXzsuyvTO5PUqkelb4ZsfnwitThDHQ/xSAkIwJfZ8/a+bS7uXsRoBBBD4IgI6rR60nbNjiB9+CQG/xpPQenGtousg4odfQkBoJbSE1k8CQqYzDX4lP8fDDqAixi8lILRSYi8G8ffwmvohSkcSP/wSAsf5RaeV2OPja48zjfu+KtPwS4XvZqbV8TPjwS8mILRiZE8LhFbHT2jhFxMQWjEyocU0pWkcDyuA/Ffhczzs8D1WM2FHET/8EgKOhwmtF9cqug4ifvglBIRWQkto6Sz5JSYwvim55SHW4N2CcVHMjCpR6FHh23/cIbQ6gc208EsJCNWU2PP1jocdP8cl/GICQitG9rRAaHX8hBZ+MQGhFSMTWkxTmsbMrQLIfxU+92l1+B6rmbCjiB9+CQHHw4TWi2sVXQcRP/wSAp4Rn9ByLQII/PUE3PLQa6BT6Bjih19CwPEwoeV4aIbHLzGB8U1JpxVr8G7BuCi+natEoUeFb/8vloRWJ7BvD/FLCQjVlNjz9Y6HHT/HJfxiAkIrRva0QGh1/IQWfjEBoRUjE1pMU5rGzK0CyH8VPnfEd/geq5mwo4gffgkBx8OE1otrFV0HET/8EgJCK6EltHSW/BITGN+U3PIQa/BuwbgoZkaVKPSo8O0/7hBancBmWvilBIRqSuz5esfDjp/jEn4xAaEVI3taILQ6fkILv5iA0IqRCS2mKU1j5lYB5L8Kn/u0OnyP1UzYUcQPv4SA42FC68W1iq6DiB9+CQGhldASWjpLfokJjG9KbnmINXi3YFwUM6NKFHpU+PYfd7yFVvcxrUYAAQS+iIBOqwdtZ+8Y4odfQsBMK6FlpmWmxS8xgfFNSacVa2CmZeZWmWa8iE/TQ2hV/tN59Pj2H/yeFgq7f16h1VednbNjiB9+CQEzrYSWmZbOkl9iAuObkk4r1sBMa/fjg/dXmXo8ZKb1EFqVvjqPHp+ZVslw+5ARWqXCfsG5BnhckUwXnderPGimVeF7LFbEHUT88EsICK2ElkG8kOaXmMD4pmSmFWtgEO94U5lmvIhP00NoVf7TefT4HK9LhseFoNAqHWOmVQM8ruhO64ymP6/QqmtOp1AiFFodwOP4Ca3OML49xC8lcFzI6LRSi7y/nmk6hvjhlxAY94tOK8H/8bXjokzvTF6vEpm+Fb758YnQ6gRxPMQvJSAEU2LP1/+6ubR7GasRQACBLyKg0+pB2zk7hvjhlxDwazwJrRfXKroOIn74JQSEVkJLaP0kIGQ60+BX8nM87AAqYvxSAkIrJfZiEH8Pr6kfonQk8cMvIXCcX3RaiT0+vvY407jvqzINv1T4bmZaHT8zHvxiAkIrRva0QGh1/IQWfjEBoRUjE1pMU5rG8bACyH8VPsfDDt9jNRN2FPHDLyHgeJjQenGtousg4odfQkBoJbSEls6SX2IC45uSWx5iDd4tGBfFzKgShR4Vvv3HHUKrE9hMC7+UgFBNiT1f73jY8XNcwi8mILRiZE8LhFbHT2jhFxMQWjEyocU0pWnM3CqA/Ffhc59Wh++xmgk7ivjhlxBwPExovbhW0XUQ8cMvIeAZ8Qkt1yKAwF9O4Nv/AdUGsRAoWF/DAAAAAElFTkSuQmCC\n"
          ]
        },
        {
          "output_type": "execute_result",
          "data": {
            "text/plain": [
              "4827"
            ]
          },
          "metadata": {},
          "execution_count": 32
        }
      ]
    },
    {
      "cell_type": "code",
      "metadata": {
        "id": "apabzO95ACov",
        "colab": {
          "base_uri": "https://localhost:8080/",
          "height": 252
        },
        "outputId": "acdd69d8-a717-494d-9974-a160ceab4df1"
      },
      "source": [
        "g = load_maze('4.3.png')"
      ],
      "execution_count": 33,
      "outputs": [
        {
          "output_type": "display_data",
          "data": {
            "image/png": "[encoded data removed]",
            "text/plain": [
              "<Figure size 432x288 with 1 Axes>"
            ]
          },
          "metadata": {}
        }
      ]
    },
    {
      "cell_type": "code",
      "metadata": {
        "colab": {
          "base_uri": "https://localhost:8080/",
          "height": 286
        },
        "id": "LvG9_cCjuSmm",
        "outputId": "67768db4-7a88-41ad-bbe0-7b8ead321c12"
      },
      "source": [
        "import matplotlib.pyplot as plt\n",
        "import matplotlib.image as img \n",
        "im=img.imread('4.3.png')\n",
        "plt.imshow(im)"
      ],
      "execution_count": 37,
      "outputs": [
        {
          "output_type": "execute_result",
          "data": {
            "text/plain": [
              "<matplotlib.image.AxesImage at 0x7f631a04d390>"
            ]
          },
          "metadata": {},
          "execution_count": 37
        },
        {
          "output_type": "display_data",
          "data": {
            "image/png": "[encoded data removed]",
            "text/plain": [
              "<Figure size 432x288 with 1 Axes>"
            ]
          },
          "metadata": {
            "needs_background": "light"
          }
        }
      ]
    },
    {
      "cell_type": "code",
      "metadata": {
        "id": "V1s5kFo5ADsb",
        "colab": {
          "base_uri": "https://localhost:8080/",
          "height": 286
        },
        "outputId": "46964cba-2f73-4274-d951-8b63ca53a702"
      },
      "source": [
        "%%time\n",
        "S = (2,3)\n",
        "F = (2,8)\n",
        "pf = Pathfinder(S, F, g, lambda x, y: y, lambda x, y:manhattan_distance(x,y)) #Best First\n",
        "pf.find_path()\n",
        "g.draw_map(S,F,pf.get_path())"
      ],
      "execution_count": 34,
      "outputs": [
        {
          "output_type": "display_data",
          "data": {
            "image/png": "[encoded data removed]",
            "text/plain": [
              "<Figure size 432x288 with 1 Axes>"
            ]
          },
          "metadata": {}
        },
        {
          "output_type": "stream",
          "name": "stdout",
          "text": [
            "CPU times: user 55.1 ms, sys: 963 µs, total: 56.1 ms\n",
            "Wall time: 58 ms\n"
          ]
        }
      ]
    },
    {
      "cell_type": "code",
      "metadata": {
        "colab": {
          "base_uri": "https://localhost:8080/",
          "height": 286
        },
        "id": "dIvKR9l5YCkY",
        "outputId": "042011e9-5713-437c-8dbd-e574859219f5"
      },
      "source": [
        "%%time\n",
        "S = (2,3)\n",
        "F = (2,8)\n",
        "pf = Pathfinder(S, F, g, lambda x, y: x+y, lambda x, y:manhattan_distance(x,y)) #A*\n",
        "pf.find_path()\n",
        "g.draw_map(S,F,pf.get_path())"
      ],
      "execution_count": 35,
      "outputs": [
        {
          "output_type": "display_data",
          "data": {
            "image/png": "[encoded data removed]",
            "text/plain": [
              "<Figure size 432x288 with 1 Axes>"
            ]
          },
          "metadata": {}
        },
        {
          "output_type": "stream",
          "name": "stdout",
          "text": [
            "CPU times: user 54.1 ms, sys: 4 µs, total: 54.1 ms\n",
            "Wall time: 58 ms\n"
          ]
        }
      ]
    },
    {
      "cell_type": "markdown",
      "metadata": {
        "id": "AFWRsg4vwVR5"
      },
      "source": [
        "Βλέπουμε ότι ο Βest First χρειάζεται περισσότερο χρόνο σε σχέση με τον A*."
      ]
    },
    {
      "cell_type": "markdown",
      "metadata": {
        "id": "x41xMK-VAGHp"
      },
      "source": [
        "### 4.4.  "
      ]
    },
    {
      "cell_type": "code",
      "metadata": {
        "id": "ndh3zuH4Jjyo",
        "colab": {
          "base_uri": "https://localhost:8080/",
          "height": 397
        },
        "outputId": "1d50ea56-3978-4baf-fcfc-aa00916abc73"
      },
      "source": [
        "draw(filename='4.4.png')"
      ],
      "execution_count": 38,
      "outputs": [
        {
          "output_type": "display_data",
          "data": {
            "text/html": [
              "\n",
              "<canvas width=301 height=301></canvas>\n",
              "<br>\n",
              "\n",
              "<button id = \"start\" style=\"background-color: #008000\">Start</button>\n",
              "<button id = \"end\" style=\"background-color: #800000\">End</button>\n",
              "<button id = \"finish\">Finish</button>\n",
              "<script>\n",
              "\n",
              "var canvas = document.querySelector('canvas')\n",
              "var ctx = canvas.getContext('2d')\n",
              "\n",
              "for (var x = 0.5; x < 301; x += 20) {\n",
              "  ctx.moveTo(x, 0);\n",
              "  ctx.lineTo(x, 300);\n",
              "}\n",
              "\n",
              "for (var y = 0.5; y < 301; y += 20) {\n",
              "  ctx.moveTo(0, y);\n",
              "  ctx.lineTo(300, y);\n",
              "}\n",
              "\n",
              "ctx.strokeStyle = \"#000\";\n",
              "ctx.stroke();\n",
              "\n",
              "var button = document.getElementById('finish')\n",
              "var start_button = document.getElementById('start')\n",
              "var end_button = document.getElementById('end')\n",
              "\n",
              "\n",
              "start_button.onclick = ()=>{\n",
              "    ctx.fillStyle=\"#008000\";\n",
              "  }\n",
              "\n",
              "end_button.onclick = ()=>{\n",
              "    ctx.fillStyle=\"#800000\";\n",
              "  }\n",
              "   \n",
              "\n",
              "var mouse = {x: 0, y: 0}\n",
              "canvas.addEventListener('mousemove', function(e) {\n",
              "  mouse.x = e.pageX - this.offsetLeft\n",
              "  mouse.y = e.pageY - this.offsetTop\n",
              "})\n",
              "\n",
              "function getMousePos(canvas, evt) {\n",
              "        var rect = canvas.getBoundingClientRect();\n",
              "        return {\n",
              "          x: evt.x - rect.left,\n",
              "          y: evt.y - rect.top\n",
              "        };\n",
              "      }\n",
              "\n",
              "function getNearestSquare(position) {\n",
              "    var x = position.x;\n",
              "    var y = position.y;\n",
              "\n",
              "    if (x < 0 || y < 0) return null;\n",
              "    x = (Math.floor(x / 20) * 20) + 0.5\n",
              "    y = (Math.floor(y / 20) * 20) + 0.5\n",
              "    return {x: x, y: y};\n",
              "}\n",
              "\n",
              "function containsObject(obj, list) {\n",
              "    var i;\n",
              "    for (i = 0; i < list.length; i++) {\n",
              "        if (list[i].x === obj.x && list[i].y == obj.y) {\n",
              "            return i;\n",
              "        }\n",
              "    }\n",
              "    return -1;\n",
              "}\n",
              "\n",
              "borders = []\n",
              "\n",
              "canvas.onmousedown = ()=>{\n",
              "    var pos = getNearestSquare(getMousePos(canvas, mouse));\n",
              "    if (pos != null) {\n",
              "        index = containsObject(pos, borders)\n",
              "        if (index != -1){\n",
              "            borders.splice(index, 1)\n",
              "            ctx.clearRect(pos.x + 1, pos.y, 19, 19)\n",
              "        }\n",
              "        else{\n",
              "            ctx.fillRect(pos.x+1,pos.y+1,18,18);\n",
              "            borders.push(pos)\n",
              "        }\n",
              "        ctx.fillStyle=\"#000000\";\n",
              "    }\n",
              "}\n",
              "var data = new Promise(resolve=>{\n",
              "  button.onclick = ()=>{\n",
              "    resolve(canvas.toDataURL('image/png'))\n",
              "  }\n",
              "})\n",
              "</script>\n"
            ],
            "text/plain": [
              "<IPython.core.display.HTML object>"
            ]
          },
          "metadata": {}
        },
        {
          "output_type": "stream",
          "name": "stdout",
          "text": [
            "data:image/png;base64,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\n"
          ]
        },
        {
          "output_type": "execute_result",
          "data": {
            "text/plain": [
              "4982"
            ]
          },
          "metadata": {},
          "execution_count": 38
        }
      ]
    },
    {
      "cell_type": "code",
      "metadata": {
        "id": "ixRxVVOwAK8K",
        "colab": {
          "base_uri": "https://localhost:8080/",
          "height": 252
        },
        "outputId": "5fe73af8-9379-4811-a317-ad60281734c8"
      },
      "source": [
        "g1 = load_maze('4.4.png')"
      ],
      "execution_count": 39,
      "outputs": [
        {
          "output_type": "display_data",
          "data": {
            "image/png": "[encoded data removed]",
            "text/plain": [
              "<Figure size 432x288 with 1 Axes>"
            ]
          },
          "metadata": {}
        }
      ]
    },
    {
      "cell_type": "code",
      "metadata": {
        "colab": {
          "base_uri": "https://localhost:8080/",
          "height": 286
        },
        "id": "hd9uyzqiuj_H",
        "outputId": "302d7be6-ce73-4238-e14d-134efeb912b5"
      },
      "source": [
        "import matplotlib.pyplot as plt\n",
        "import matplotlib.image as img \n",
        "im=img.imread('4.4.png')\n",
        "plt.imshow(im)"
      ],
      "execution_count": 40,
      "outputs": [
        {
          "output_type": "execute_result",
          "data": {
            "text/plain": [
              "<matplotlib.image.AxesImage at 0x7f6319f824d0>"
            ]
          },
          "metadata": {},
          "execution_count": 40
        },
        {
          "output_type": "display_data",
          "data": {
            "image/png": "[encoded data removed]",
            "text/plain": [
              "<Figure size 432x288 with 1 Axes>"
            ]
          },
          "metadata": {
            "needs_background": "light"
          }
        }
      ]
    },
    {
      "cell_type": "code",
      "metadata": {
        "id": "3Qrz7mawALUY",
        "colab": {
          "base_uri": "https://localhost:8080/",
          "height": 286
        },
        "outputId": "c327286f-7b72-4430-8c7f-b8f110d59302"
      },
      "source": [
        "%%time\n",
        "S = (3,4)\n",
        "F = (3,11)\n",
        "pf = Pathfinder(S, F, g1, lambda x, y: x+y, lambda x, y:manhattan_distance(x,y)) #Α*\n",
        "pf.find_path()\n",
        "g1.draw_map(S,F,pf.get_path())"
      ],
      "execution_count": 43,
      "outputs": [
        {
          "output_type": "display_data",
          "data": {
            "image/png": "[encoded data removed]",
            "text/plain": [
              "<Figure size 432x288 with 1 Axes>"
            ]
          },
          "metadata": {}
        },
        {
          "output_type": "stream",
          "name": "stdout",
          "text": [
            "CPU times: user 50 ms, sys: 1 ms, total: 51 ms\n",
            "Wall time: 52.5 ms\n"
          ]
        }
      ]
    },
    {
      "cell_type": "code",
      "metadata": {
        "id": "5ze26bEaALcm",
        "colab": {
          "base_uri": "https://localhost:8080/",
          "height": 286
        },
        "outputId": "b168a11c-8060-4770-a564-f0db0da2b885"
      },
      "source": [
        "%%time\n",
        "S = (3,4)\n",
        "F = (3,11)\n",
        "pf = Pathfinder(S, F, g1, lambda x, y: x, lambda x, y:manhattan_distance(x,y)) #DIJKSTRA\n",
        "pf.find_path()\n",
        "g1.draw_map(S,F,pf.get_path())"
      ],
      "execution_count": 44,
      "outputs": [
        {
          "output_type": "display_data",
          "data": {
            "image/png": "[encoded data removed]",
            "text/plain": [
              "<Figure size 432x288 with 1 Axes>"
            ]
          },
          "metadata": {}
        },
        {
          "output_type": "stream",
          "name": "stdout",
          "text": [
            "CPU times: user 56.1 ms, sys: 12 µs, total: 56.1 ms\n",
            "Wall time: 55.9 ms\n"
          ]
        }
      ]
    },
    {
      "cell_type": "markdown",
      "metadata": {
        "id": "fkH4JHwHwjfT"
      },
      "source": [
        "Θέλαμε ο Α* να βρίσκει το μονοπάτι σημαντικά πιο γρήγορα από τον Dijkstra. Αρα θέλουμε το (x+y) > x. \n",
        "\n",
        "Βλέπουμε ότι στο παρακάτω παράδειγμα ο Α* χρειάζεται λιγότερο χρόνο να βρεί το μονοπάτι σε σχέση με τον Dijkstra"
      ]
    },
    {
      "cell_type": "markdown",
      "metadata": {
        "id": "KcKfD8ylAOpb"
      },
      "source": [
        "### 4.5.  "
      ]
    },
    {
      "cell_type": "code",
      "metadata": {
        "id": "tzK7U4PfJkIC",
        "colab": {
          "base_uri": "https://localhost:8080/",
          "height": 397
        },
        "outputId": "5f3c89be-d340-4348-b7bb-df5073ffdb8e"
      },
      "source": [
        "draw(filename='4.5.png')"
      ],
      "execution_count": 47,
      "outputs": [
        {
          "output_type": "display_data",
          "data": {
            "text/html": [
              "\n",
              "<canvas width=301 height=301></canvas>\n",
              "<br>\n",
              "\n",
              "<button id = \"start\" style=\"background-color: #008000\">Start</button>\n",
              "<button id = \"end\" style=\"background-color: #800000\">End</button>\n",
              "<button id = \"finish\">Finish</button>\n",
              "<script>\n",
              "\n",
              "var canvas = document.querySelector('canvas')\n",
              "var ctx = canvas.getContext('2d')\n",
              "\n",
              "for (var x = 0.5; x < 301; x += 20) {\n",
              "  ctx.moveTo(x, 0);\n",
              "  ctx.lineTo(x, 300);\n",
              "}\n",
              "\n",
              "for (var y = 0.5; y < 301; y += 20) {\n",
              "  ctx.moveTo(0, y);\n",
              "  ctx.lineTo(300, y);\n",
              "}\n",
              "\n",
              "ctx.strokeStyle = \"#000\";\n",
              "ctx.stroke();\n",
              "\n",
              "var button = document.getElementById('finish')\n",
              "var start_button = document.getElementById('start')\n",
              "var end_button = document.getElementById('end')\n",
              "\n",
              "\n",
              "start_button.onclick = ()=>{\n",
              "    ctx.fillStyle=\"#008000\";\n",
              "  }\n",
              "\n",
              "end_button.onclick = ()=>{\n",
              "    ctx.fillStyle=\"#800000\";\n",
              "  }\n",
              "   \n",
              "\n",
              "var mouse = {x: 0, y: 0}\n",
              "canvas.addEventListener('mousemove', function(e) {\n",
              "  mouse.x = e.pageX - this.offsetLeft\n",
              "  mouse.y = e.pageY - this.offsetTop\n",
              "})\n",
              "\n",
              "function getMousePos(canvas, evt) {\n",
              "        var rect = canvas.getBoundingClientRect();\n",
              "        return {\n",
              "          x: evt.x - rect.left,\n",
              "          y: evt.y - rect.top\n",
              "        };\n",
              "      }\n",
              "\n",
              "function getNearestSquare(position) {\n",
              "    var x = position.x;\n",
              "    var y = position.y;\n",
              "\n",
              "    if (x < 0 || y < 0) return null;\n",
              "    x = (Math.floor(x / 20) * 20) + 0.5\n",
              "    y = (Math.floor(y / 20) * 20) + 0.5\n",
              "    return {x: x, y: y};\n",
              "}\n",
              "\n",
              "function containsObject(obj, list) {\n",
              "    var i;\n",
              "    for (i = 0; i < list.length; i++) {\n",
              "        if (list[i].x === obj.x && list[i].y == obj.y) {\n",
              "            return i;\n",
              "        }\n",
              "    }\n",
              "    return -1;\n",
              "}\n",
              "\n",
              "borders = []\n",
              "\n",
              "canvas.onmousedown = ()=>{\n",
              "    var pos = getNearestSquare(getMousePos(canvas, mouse));\n",
              "    if (pos != null) {\n",
              "        index = containsObject(pos, borders)\n",
              "        if (index != -1){\n",
              "            borders.splice(index, 1)\n",
              "            ctx.clearRect(pos.x + 1, pos.y, 19, 19)\n",
              "        }\n",
              "        else{\n",
              "            ctx.fillRect(pos.x+1,pos.y+1,18,18);\n",
              "            borders.push(pos)\n",
              "        }\n",
              "        ctx.fillStyle=\"#000000\";\n",
              "    }\n",
              "}\n",
              "var data = new Promise(resolve=>{\n",
              "  button.onclick = ()=>{\n",
              "    resolve(canvas.toDataURL('image/png'))\n",
              "  }\n",
              "})\n",
              "</script>\n"
            ],
            "text/plain": [
              "<IPython.core.display.HTML object>"
            ]
          },
          "metadata": {}
        },
        {
          "output_type": "stream",
          "name": "stdout",
          "text": [
            "data:image/png;base64,iVBORw0KGgoAAAANSUhEUgAAAS0AAAEtCAYAAABd4zbuAAAAAXNSR0IArs4c6QAAEURJREFUeF7t3dFy5MQSBFAtP774xzExHuxY3RkBqWzs8tXxCxEgOdanqlPVbe3wY9u2180XAQIEvonAj79C6/bPVV+3EPT9zmvyO293u5Pf/7mf0OoKbJHwSwWEaiq2v/5VaHWAQotfKiC0UjGhZfvQ9Qw/fpHA8pA2aUX+Ty9eXhRnglVR1KPim/9QElpdgW0P+aUCQjUVsz2c/yQxaVVdLRQqvvnrw6TVFdikxS8VEKqpmElr/pPEpFV1tVCo+OavD5NWV2CTFr9UQKimYiat+U8Sk1bV1UKh4pu/PkxaXYFNWvxSAaGaipm05j9JTFpVVwuFim/++jBpdQU2afFLBYRqKmbSmv8kMWlVXS0UKr7568Ok1RXYpMUvFRCqqZhJa/6TxKRVdbVQqPjmrw+TVldgkxa/VECopmImrflPEpNW1dVCoeKbvz7eJ63ux3Q3AQIEPknA9rCH9mTvDPnxSwR83HKidXCtRdch8uOXCAitREtovQkIma5p+JV+tocdoEXMLxUQWqmY3x6aFLqe4ccvElge0iatyP/pxcuL4pWHqijqUfHNfygJra7Atof8UgGhmorZHs5/kpi0qq4WChXf/PVh0uoKbNLilwoI1VTMpDX/SWLSqrpaKFR889eHSasrsEmLXyogVFMxk9b8J4lJq+pqoVDxzV8fJq2uwCYtfqmAUE3FTFrznyQmraqrhULFN399mLS6Apu0+KUCQjUVM2nNf5KYtKquFgoV3/z1YdLqCmzS4pcKCNVUzKQ1/0li0qq6WihUfPPXh0mrK7BJi18qIFRTsYNJq/s27iZAgMAnCXyPSevn9rL9tr1uf2y3P+/zr3/67+93vWw/bb+q7jIpVHzzt1/T18f3Ca0fb2HTfb1uL5vQ6gx93DK/TGD5Q05oZQV4dvXyokx/0vnzVU2jXyq+7Zv8jy1u20OT1tlSWyRn5e738RvmZ9LqCqKp+aUCQjAV219v0ur8PIn5xQJCKybb3SC0Oj+hxS8WEFoxmdDyykPZNA7iK0ChVfE5iO/4HNTyywWEVm726x22h52f7SG/WEBoxWS2h7aHZdPYHlaAQqvisz3s+GwP+eUCQis3sz00KVRdY9FVfF5W7fhMWqWfM60FgEKwQ7ycnzfiu4a53X25pjGpVk2jXyo+k1bH50yLXy4gtHIzZ1omhaprLLqKz2Te8Zm0Sj9nWgsAhWCHeDm/73Gm9bL9/lHX26eXvn9K6e2f719/96mmvzaFDwHslogzPH6ZwPJQfQ+t7I/hagIECHyRwPeYtLa/+Wz4HG558jsjy4vwyx3qUfFd74xMaHUNc7vbousM+fFLBL7JX5g2aSVF/d9rhUKj56HU6f0HfiattiT/QVFsN6uiCOmKb/7OQWh1BbY95JcKCNVUbH+97WHn93a3JuwQ+fFLBIRWonVwrUXXIfLjlwgIrURLaJks9UsssPyh5EwrrsHDDcuL4iC+Kop6VHzzjzuEVldgZ1r8UgGhmoo5iJ//JDFpVV0tFCq++evDpNUV2KTFLxUQqqmYSWv+k8SkVXW1UKj45q8Pk1ZXYJMWv1RAqKZiJq35TxKTVtXVQqHim78+TFpdgU1a/FIBoZqKmbTmP0lMWlVXC4WKb/76MGl1BTZp8UsFhGoqZtKa/yQxaVVdLRQqvvnrw2fEdwV2NwECnyxge9iDe7J3hvz4JQI+5SHROrjWousQ+fFLBIRWoiW03gSETNc0/Eo/28MO0CLmlwoIrVTMbw9NCl3P8OMXCSwPaZNW5P/04uVF8cpDVRT1qPjmP5SEVldg20N+qYBQTcVsD+c/SUxaVVcLhYpv/vowaXUFNmnxSwWEaipm0pr/JDFpVV0tFCq++evDpNUV2KTFLxUQqqmYSWv+k8SkVXW1UKj45q8Pk1ZXYJMWv1RAqKZiJq35TxKTVtXVQqHim78+TFpdgU1a/FIBoZqKmbTmP0lMWlVXC4WKb/76MGl1BTZp8UsFhGoqZtKa/yQxaVVdLRQqvvnrw6TVFdikxS8VEKqp2MGk1X0bdxMgQOCTBExaPbQnZ2fIj18i4OOWE62Day26DpEfv0RAaCVaQutNQMh0TcOv9LM97AAtYn6pgNBKxQ4O4m/htepLUTpJfvwSgcv1i0kraY/n116uabxHVjWNfqn4NmdanZ8zHn6xgNCKyXY3CK3OT2jxiwWEVkwmtDRN2TS2hxWg/qv4bA87vvvdmrBT5McvEbA9TLQOrrXoOkR+/BIBoZVoCS2TpX6JBZY/lLzyENfg4YblRXFmVBVFPSq++ccdQqsrsDMtfqmAUE3F9tfbHnZ+tkv8YgGhFZPtbhBanZ/Q4hcLCK2YTGhpmrJpnLlVgPqv4vOeVsd3v1sTdor8+CUCtoeJ1sG1Fl2HyI9fIvARWslNriVAgMCXCXjloac3KXSG/PglAraHiZbtoTM8/RILLH8ombTiGjzcsLwofjtXFUU9Kr75v1gSWl2B/faQXyogVFOx/fW2h52f7RK/WEBoxWS7G4RW5ye0+MUCQismE1qapmwaZ24VoP6r+LwR3/Hd79aEnSI/fomA7WGidXCtRdch8uOXCAitREtomSz1Syyw/KHklYe4Bg83LC+KM6OqKOpR8c0/7hBaXYGdafFLBYRqKra/3vaw87Nd4hcLCK2YbHeD0Or8hBa/WEBoxWRCS9OUTePMrQLUfxWf97Q6vvvdmrBT5McvEbA9TLQOrrXoOkR+/BIBoZVoCS2TpX6JBZY/lLzyENfg4YblRXFmVBVFPSq++ccd76HV/ZjuJkCAwCcJmLR6aE/2zpAfv0TAmVai5UzLmZZ+iQWWP5RMWnENnGk5c6uaZvkivlo9hFbVfyaPnm/+we/VQmH6zyu0+lXnydkZ8uOXCDjTSrScaZks9UsssPyhZNKKa+BMa/r2wZ+vaurlIbO6HkKrqq/Jo+dzplUajg8ZoVVW2F9wrgEvt0hWLzrfr+pBZ1oV3/1mi7hD5McvERBaiZaDeCGtX2KB5Q8lZ1pxDRzE295UTbN8EV+tHkKr6j+TR89ne10aXi4EhVbZMc60asDLLbqrTUarf16hVa85k0JJKLQ6wMv5Ca2uYfz2kF8qcLmQMWmlLfJ4vabpDPnxSwSW94tJK+F/fu3yoqx+Mvl+VZHVt+Jbf3witLqC2B7ySwWEYCq2v/7j5dLu27ibAAECnyRg0uqhPTk7Q378EgF/jSfROrjWousQ+fFLBIRWoiW03gSETNc0/Eo/28MO0CLmlwoIrVTs4CD+Fl6rvhSlk+THLxG4XL+YtJL2eH7t5ZrGe19V0+iXim9zptX5OePhFwsIrZhsd4PQ6vyEFr9YQGjFZEJL05RNY3tYAeq/is/2sOO7360JO0V+/BIB28NE6+Bai65D5McvERBaiZbQMlnql1hg+UPJKw9xDR5uWF4UZ0ZVUdSj4pt/3CG0ugI70+KXCgjVVGx/ve1h52e7xC8WEFox2e4GodX5CS1+sYDQismElqYpm8aZWwWo/yo+72l1fPe7NWGnyI9fImB7mGgdXGvRdYj8+CUCPiM+0XItAQJfL+CVh74GJoXOkF/p93PbXn7bttc/tu3wc/H+6b+//xFetu3n9DNLodU1jDMtfqnA8pC+hdaPe9hUX6/b9iK0KsKPm5cXefqTxJ+vapzL9YvQqvrFb9N6Pr+NLA2F1klAk9ZJuCe3Xa4JTVpV81yuX0xaVb+YtHo+k1ZpKLROApq0TsKZtIRW2TpC6ySg0DoJJ7SEVtk6QuskoNA6CSe0hFbZOkLrJKDQOgkntIRW2TpC6ySg0DoJJ7SEVtk6QuskoNA6CSe0hFbZOkLrJKDQOgkntIRW2TpC6ySg0DoJJ7SEVtk6QuskoNA6CSe0hFbZOkLrJKDQOgkntIRW2TpC6ySg0DoJJ7SEVtk6QuskoNA6CSe0hFbZOkLrJKDQOgkntIRW2TqXC62Xbfv93ez26aXvn1J6++ev//7fuH6nDwH8Nz+PawgQIPDlAj5uuS/B5Z7sPu+rahr9UvH5/x52fPe7NWGnyI9fIuD/e5hoHVxr0XWI/PglAkIr0RJaJkv9Egssfyg504pr8HDD8qI4M6qKoh4V3/zjDqHVFdiZFr9UQKimYvvrbQ87P9slfrGA0IrJdjcIrc5PaPGLBYRWTCa0NE3ZNM7cKkD9V/F5T6vju9+tCTtFfvwSAdvDROvgWouuQ+THLxEQWomW0DJZ6pdYYPlDySsPcQ0eblheFGdGVVHUo+Kbf9whtLoCO9PilwoI1VRsf73tYednu8QvFhBaMdnuBqHV+QktfrGA0IrJhJamKZvGmVsFqP8qPu9pdXz3uzVhp8iPXyJge5hoHVxr0XWI/PglAh+hldzkWgIECHyZgFceenqTQmfIj18iYHuYaNkeOsPTL7HA8oeSSSuuwcMNy4vit3NVUdSj4pv/iyWh1RXYbw/5pQJCNRXbX2972PnZLvGLBYRWTLa7QWh1fkKLXywgtGIyoaVpyqZx5lYB6r+KzxvxHd/9bk3YKfLjlwjYHiZaB9dadB0iP36JgNBKtISWyVK/xALLH0peeYhr8HDD8qI4M6qKoh4V3/zjDqHVFdiZFr9UQKimYvvrbQ87P9slfrGA0IrJdjcIrc5PaPGLBYRWTCa0NE3ZNM7cKkD9V/F5T6vju9+tCTtFfvwSAdvDROvgWouuQ+THLxEQWomW0DJZ6pdYYPlDySsPcQ0eblheFGdGVVHUo+Kbf9zxHlrdj+luAgQIfJKASauH9mTvDPnxSwScaSVazrScaemXWGD5Q8mkFdfAmZYzt6ppli/iq9VDaFX9Z/Lo+eYf/F4tFKb/vEKrX3WenJ0hP36JgDOtRMuZlslSv8QCyx9KJq24Bs60pm8f/Pmqpl4eMqvrIbSq+po8ej5nWqXh+JARWmWF/QXnGvByi2T1ovP9qh50plXx3W+2iDtEfvwSAaGVaDmIF9L6JRZY/lByphXXwEG87U3VNMsX8dXqIbSq/jN59Hy216Xh5UJQaJUd40yrBrzcorvaZLT65xVa9ZozKZSEQqsDvJyf0Ooaxm8P+aUClwsZk1baIo/Xa5rOkB+/RGB5v5i0Ev7n1y4vyuonk+9XFVl9K771xydCqyuI7SG/VEAIpmL76z9eLu2+jbsJECDwSQImrR7ak7Mz5McvEfDXeBKtg2stug6RH79EQGglWkLrTUDIdE3Dr/SzPewALWJ+qYDQSsUODuJv4bXqS1E6SX78EoHL9YtJK2mP59dermm891U1jX6p+DZnWp2fMx5+sYDQisl2Nwitzk9o8YsFhFZMJrQ0Tdk0tocVoP6r+GwPO7773ZqwU+THLxGwPUy0Dq616DpEfvwSAaGVaAktk6V+iQWWP5S88hDX4OGG5UVxZlQVRT0qvvnHHUKrK7AzLX6pgFBNxfbX2x52frZL/GIBoRWT7W4QWp2f0OIXCwitmExoaZqyaZy5VYD6r+LznlbHd79bE3aK/PglAraHidbBtRZdh8iPXyLgM+ITLdcSIPD1Al556GtgUugM+fFLBGwPEy3bQ2d4+iUWWP5QMmnFNXi4YXlR/HauKop6VHzzf7EktLoC++0hv1RAqKZi++ttDzs/2yV+sYDQisl2Nwitzk9o8YsFhFZMJrQ0Tdk0ztwqQP1X8XkjvuO7360JO0V+/BIB28NE6+Bai65D5McvERBaiZbQMlnql1hg+UPJKw9xDR5uWF4UZ0ZVUdSj4pt/3CG0ugI70+KXCgjVVGx/ve1h52e7xC8WEFox2e4GodX5CS1+sYDQismElqYpm8aZWwWo/yo+72l1fPe7NWGnyI9fImB7mGgdXGvRdYj8+CUCQivRElomS/0SCyx/KHnlIa7Bww3Li+LMqCqKelR884873kOr+zHdTYAAgc8R+PEnvtZdEBNNs1YAAAAASUVORK5CYII=\n"
          ]
        },
        {
          "output_type": "execute_result",
          "data": {
            "text/plain": [
              "4490"
            ]
          },
          "metadata": {},
          "execution_count": 47
        }
      ]
    },
    {
      "cell_type": "markdown",
      "metadata": {
        "id": "gudt2lGiJrW0"
      },
      "source": [
        "#### Εισάγετε εδώ τη φωτογραφία όπως αυτή προέκυψε από την εκτέλεση και αλληλεπίδραση με το παραπάνω κελί.  \n",
        "\n",
        "\n",
        "#### Εισάγετε εδώ το σχολιασμό σας "
      ]
    },
    {
      "cell_type": "code",
      "metadata": {
        "id": "zT3sxMjVARhy",
        "colab": {
          "base_uri": "https://localhost:8080/",
          "height": 252
        },
        "outputId": "956e8d50-ed28-4a67-e0c2-d2958375dc4e"
      },
      "source": [
        "g = load_maze('4.5.png')"
      ],
      "execution_count": 48,
      "outputs": [
        {
          "output_type": "display_data",
          "data": {
            "image/png": "[encoded data removed]",
            "text/plain": [
              "<Figure size 432x288 with 1 Axes>"
            ]
          },
          "metadata": {}
        }
      ]
    },
    {
      "cell_type": "code",
      "metadata": {
        "id": "CVET3yUWATTB",
        "colab": {
          "base_uri": "https://localhost:8080/",
          "height": 269
        },
        "outputId": "e312e2f0-0208-4492-e05b-6402a85505fb"
      },
      "source": [
        "S = (2,3)\n",
        "F = (8,10)\n",
        "pf = Pathfinder(S, F, g, lambda x, y: x+y, lambda x, y:manhattan_distance(x,y))\n",
        "pf.find_path()\n",
        "print(\"path_length =\",len(pf.get_path()))\n",
        "g.draw_map(S,F,pf.get_path())"
      ],
      "execution_count": 59,
      "outputs": [
        {
          "output_type": "stream",
          "name": "stdout",
          "text": [
            "path_length = 14\n"
          ]
        },
        {
          "output_type": "display_data",
          "data": {
            "image/png": "[encoded data removed]",
            "text/plain": [
              "<Figure size 432x288 with 1 Axes>"
            ]
          },
          "metadata": {}
        }
      ]
    },
    {
      "cell_type": "code",
      "metadata": {
        "id": "oRtWfOvNATUr",
        "colab": {
          "base_uri": "https://localhost:8080/",
          "height": 269
        },
        "outputId": "f88ca065-28ab-4c6e-f682-9138ec8cf387"
      },
      "source": [
        "S = (2,3)\n",
        "F = (8,10)\n",
        "pf = Pathfinder(S, F, g, lambda x, y: x, lambda x, y:manhattan_distance(x,y))\n",
        "pf.find_path()\n",
        "print(\"path_length =\",len(pf.get_path()))\n",
        "g.draw_map(S,F,pf.get_path())"
      ],
      "execution_count": 58,
      "outputs": [
        {
          "output_type": "stream",
          "name": "stdout",
          "text": [
            "path_length = 14\n"
          ]
        },
        {
          "output_type": "display_data",
          "data": {
            "image/png": "[encoded data removed]",
            "text/plain": [
              "<Figure size 432x288 with 1 Axes>"
            ]
          },
          "metadata": {}
        }
      ]
    },
    {
      "cell_type": "markdown",
      "metadata": {
        "id": "AdiB-RWsxxuM"
      },
      "source": [
        "Παρατηρώντας τα παραπάνω μήκη βλέπουμε ότι και οι δύο αλγόριθμοι βρίσκουν ίδιου μήκους μονοπάτι με κοινή αρχή και τέλος. "
      ]
    }
  ]
}